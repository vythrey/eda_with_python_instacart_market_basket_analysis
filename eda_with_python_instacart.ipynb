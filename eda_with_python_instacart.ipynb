{
 "cells": [
  {
   "cell_type": "markdown",
   "id": "04a82a15-a92b-44ae-a811-71ddd2e8865c",
   "metadata": {},
   "source": [
    "# Instacart_market_basket_analysis"
   ]
  },
  {
   "cell_type": "markdown",
   "id": "dfcb0c9f-8614-49f4-bcce-8cd1ebb1a4e2",
   "metadata": {},
   "source": [
    "This notebook contains an exploratory data analysis (EDA) of the Instacart dataset, which includes 3 million grocery orders from more than 200,000 Instacart users. \n",
    "\n",
    "Instacart is an online grocery delivery service. This analysis aims to explore the dataset to understand customer behavior, identify patterns, and provide actionable insights that can help in enhancing the customer experience and optimizing operations."
   ]
  },
  {
   "cell_type": "markdown",
   "id": "9ee4b586-0f51-49f3-8014-a217831bf4bf",
   "metadata": {
    "jp-MarkdownHeadingCollapsed": true
   },
   "source": [
    "### Data Preprocessing"
   ]
  },
  {
   "cell_type": "markdown",
   "id": "289b7291-a897-46ce-bcbf-af2aed2e40ff",
   "metadata": {
    "jp-MarkdownHeadingCollapsed": true
   },
   "source": [
    "#### Importing Packages"
   ]
  },
  {
   "cell_type": "markdown",
   "id": "fbbd7c79-b1ff-46f4-a4e2-e006c96eb718",
   "metadata": {},
   "source": [
    "1) Pandas is a Python library used for working with data sets. It has functions for analyzing, cleaning, exploring, and manipulating data.\n",
    "2) NumPy is a Python library used for working with arrays\n",
    "3) Matplotlib is a low level graph plotting library in python that serves as a visualization utility. \n",
    "4) Seaborn is a Python data visualization library based on matplotlib. It provides a high-level interface for drawing attractive and informative statistical graphics."
   ]
  },
  {
   "cell_type": "code",
   "execution_count": 7,
   "id": "d6d6e592-e87b-4da9-abc8-e37831ef61f4",
   "metadata": {},
   "outputs": [],
   "source": [
    "import pandas as pd\n",
    "import numpy as np\n",
    "import matplotlib.pyplot as plt\n",
    "import seaborn as sns\n",
    "from matplotlib import rcParams\n",
    "rcParams.update({'figure.autolayout': True})"
   ]
  },
  {
   "cell_type": "code",
   "execution_count": 8,
   "id": "23f142e9-5ceb-48eb-b37b-457ca8e497e6",
   "metadata": {},
   "outputs": [],
   "source": [
    "# to suppress warning messages that might be displayed during the execution of code for sake of clean output\n",
    "import warnings\n",
    "#warning filter in Python handles warnings (presented, disregarded or raised to exceptions)\n",
    "warnings.filterwarnings('ignore')\n",
    "# “ignore” Never display warnings which match"
   ]
  },
  {
   "cell_type": "code",
   "execution_count": 9,
   "id": "74be3f09-2f3b-45fd-89ed-17b433e62942",
   "metadata": {},
   "outputs": [],
   "source": [
    "pd.set_option('display.max_columns', None)\n",
    "pd.set_option('display.max_rows', None)\n",
    "\n",
    "# relax the limitation of data display by using set_option()"
   ]
  },
  {
   "cell_type": "markdown",
   "id": "7d45e1b8-ff29-42a1-a8e3-144618612d52",
   "metadata": {
    "jp-MarkdownHeadingCollapsed": true
   },
   "source": [
    "#### Reading Files and Getting an Overview of Files Related to Instacart Market Basket Analysis"
   ]
  },
  {
   "cell_type": "markdown",
   "id": "67f2f9e2-5b1d-4aa9-88b7-5d4f7610b254",
   "metadata": {},
   "source": [
    "What are the first few steps we are doing to get an overview of each file?\n",
    "1) Load the CSV file\n",
    "2) Use file_name.head(), file_name.tail() -> to view top 5 and bottom 5 rows of dataframe\n",
    "3) Use file_name.info() -> it provides essential details such as the total number of non-null values, data types of each column, and memory usage\n",
    "4) Use file_name.describe(include = all) -> Generates descriptive statistics for numeric columns, such as count, mean, standard deviation, minimum, maximum, and quartiles\n",
    "5) Use file_name.shape -> Returns the dimensions of the DataFrame\n",
    "6) Use file_name.columns -> Return the column names of the DataFrame\n",
    "7) Use file_name.dtypes -> Returns the data types of each column\n",
    "8) Use file_name['column_name'].value_counts() -> Returns a Series containing counts of unique values for a specified column\n",
    "9) Use file_name['column_name'].unique() -> Returns the unique values in a specified column\n",
    "10) Use file_name.nunique() -> Returns the number of unique values in each column\n",
    "11) Use file_name.isnull().sum() -> number of missing values in each column"
   ]
  },
  {
   "cell_type": "markdown",
   "id": "a568469f-e78d-4f72-8988-28182f3606ea",
   "metadata": {},
   "source": [
    "###### explanation of order_products__SET(prior,test,train)"
   ]
  },
  {
   "cell_type": "markdown",
   "id": "c66ce616-fc8c-4ab2-a407-aafa0f3dd097",
   "metadata": {},
   "source": [
    "1) all orders prior to most recent order of every user_id are evaluated as prior in orders (3421083-206209) = 3214874\n",
    "2) For 206209 users the most recent orders would be 206209 which are evaluated into train and test in ratio of ~ 7/4"
   ]
  },
  {
   "cell_type": "markdown",
   "id": "32a40d06-d9a7-4e58-b73d-ced00100661e",
   "metadata": {
    "jp-MarkdownHeadingCollapsed": true
   },
   "source": [
    "##### Load and Overview of aisles.csv"
   ]
  },
  {
   "cell_type": "code",
   "execution_count": 15,
   "id": "ff23119c-b4c6-4dd7-895e-11ca1c47f8a9",
   "metadata": {},
   "outputs": [],
   "source": [
    "aisles = pd.read_csv(\"/Users/vythreynarayanam/Downloads/DA Consultancy/Instacart_Market_Basket_EDA_Python/aisles.csv\")"
   ]
  },
  {
   "cell_type": "code",
   "execution_count": 16,
   "id": "5ac323ed-703b-4d58-862a-cb8f468efa84",
   "metadata": {},
   "outputs": [
    {
     "data": {
      "text/html": [
       "<div>\n",
       "<style scoped>\n",
       "    .dataframe tbody tr th:only-of-type {\n",
       "        vertical-align: middle;\n",
       "    }\n",
       "\n",
       "    .dataframe tbody tr th {\n",
       "        vertical-align: top;\n",
       "    }\n",
       "\n",
       "    .dataframe thead th {\n",
       "        text-align: right;\n",
       "    }\n",
       "</style>\n",
       "<table border=\"1\" class=\"dataframe\">\n",
       "  <thead>\n",
       "    <tr style=\"text-align: right;\">\n",
       "      <th></th>\n",
       "      <th>aisle_id</th>\n",
       "      <th>aisle</th>\n",
       "    </tr>\n",
       "  </thead>\n",
       "  <tbody>\n",
       "    <tr>\n",
       "      <th>0</th>\n",
       "      <td>1</td>\n",
       "      <td>prepared soups salads</td>\n",
       "    </tr>\n",
       "    <tr>\n",
       "      <th>1</th>\n",
       "      <td>2</td>\n",
       "      <td>specialty cheeses</td>\n",
       "    </tr>\n",
       "    <tr>\n",
       "      <th>2</th>\n",
       "      <td>3</td>\n",
       "      <td>energy granola bars</td>\n",
       "    </tr>\n",
       "    <tr>\n",
       "      <th>3</th>\n",
       "      <td>4</td>\n",
       "      <td>instant foods</td>\n",
       "    </tr>\n",
       "    <tr>\n",
       "      <th>4</th>\n",
       "      <td>5</td>\n",
       "      <td>marinades meat preparation</td>\n",
       "    </tr>\n",
       "  </tbody>\n",
       "</table>\n",
       "</div>"
      ],
      "text/plain": [
       "   aisle_id                       aisle\n",
       "0         1       prepared soups salads\n",
       "1         2           specialty cheeses\n",
       "2         3         energy granola bars\n",
       "3         4               instant foods\n",
       "4         5  marinades meat preparation"
      ]
     },
     "execution_count": 16,
     "metadata": {},
     "output_type": "execute_result"
    }
   ],
   "source": [
    "aisles.head()"
   ]
  },
  {
   "cell_type": "code",
   "execution_count": 17,
   "id": "eb6a80bf-8592-4421-b996-94d7b2a9adc7",
   "metadata": {},
   "outputs": [
    {
     "data": {
      "text/html": [
       "<div>\n",
       "<style scoped>\n",
       "    .dataframe tbody tr th:only-of-type {\n",
       "        vertical-align: middle;\n",
       "    }\n",
       "\n",
       "    .dataframe tbody tr th {\n",
       "        vertical-align: top;\n",
       "    }\n",
       "\n",
       "    .dataframe thead th {\n",
       "        text-align: right;\n",
       "    }\n",
       "</style>\n",
       "<table border=\"1\" class=\"dataframe\">\n",
       "  <thead>\n",
       "    <tr style=\"text-align: right;\">\n",
       "      <th></th>\n",
       "      <th>aisle_id</th>\n",
       "      <th>aisle</th>\n",
       "    </tr>\n",
       "  </thead>\n",
       "  <tbody>\n",
       "    <tr>\n",
       "      <th>129</th>\n",
       "      <td>130</td>\n",
       "      <td>hot cereal pancake mixes</td>\n",
       "    </tr>\n",
       "    <tr>\n",
       "      <th>130</th>\n",
       "      <td>131</td>\n",
       "      <td>dry pasta</td>\n",
       "    </tr>\n",
       "    <tr>\n",
       "      <th>131</th>\n",
       "      <td>132</td>\n",
       "      <td>beauty</td>\n",
       "    </tr>\n",
       "    <tr>\n",
       "      <th>132</th>\n",
       "      <td>133</td>\n",
       "      <td>muscles joints pain relief</td>\n",
       "    </tr>\n",
       "    <tr>\n",
       "      <th>133</th>\n",
       "      <td>134</td>\n",
       "      <td>specialty wines champagnes</td>\n",
       "    </tr>\n",
       "  </tbody>\n",
       "</table>\n",
       "</div>"
      ],
      "text/plain": [
       "     aisle_id                       aisle\n",
       "129       130    hot cereal pancake mixes\n",
       "130       131                   dry pasta\n",
       "131       132                      beauty\n",
       "132       133  muscles joints pain relief\n",
       "133       134  specialty wines champagnes"
      ]
     },
     "execution_count": 17,
     "metadata": {},
     "output_type": "execute_result"
    }
   ],
   "source": [
    "aisles.tail()"
   ]
  },
  {
   "cell_type": "code",
   "execution_count": 18,
   "id": "a3c61ca0-5114-4b79-83f6-d65a86f907a9",
   "metadata": {},
   "outputs": [
    {
     "name": "stdout",
     "output_type": "stream",
     "text": [
      "<class 'pandas.core.frame.DataFrame'>\n",
      "RangeIndex: 134 entries, 0 to 133\n",
      "Data columns (total 2 columns):\n",
      " #   Column    Non-Null Count  Dtype \n",
      "---  ------    --------------  ----- \n",
      " 0   aisle_id  134 non-null    int64 \n",
      " 1   aisle     134 non-null    object\n",
      "dtypes: int64(1), object(1)\n",
      "memory usage: 2.2+ KB\n"
     ]
    }
   ],
   "source": [
    "aisles.info()"
   ]
  },
  {
   "cell_type": "code",
   "execution_count": 19,
   "id": "f3fc213d-117e-46e9-b8fc-f4fdd0efd422",
   "metadata": {},
   "outputs": [
    {
     "data": {
      "text/html": [
       "<div>\n",
       "<style scoped>\n",
       "    .dataframe tbody tr th:only-of-type {\n",
       "        vertical-align: middle;\n",
       "    }\n",
       "\n",
       "    .dataframe tbody tr th {\n",
       "        vertical-align: top;\n",
       "    }\n",
       "\n",
       "    .dataframe thead th {\n",
       "        text-align: right;\n",
       "    }\n",
       "</style>\n",
       "<table border=\"1\" class=\"dataframe\">\n",
       "  <thead>\n",
       "    <tr style=\"text-align: right;\">\n",
       "      <th></th>\n",
       "      <th>aisle_id</th>\n",
       "      <th>aisle</th>\n",
       "    </tr>\n",
       "  </thead>\n",
       "  <tbody>\n",
       "    <tr>\n",
       "      <th>count</th>\n",
       "      <td>134.000000</td>\n",
       "      <td>134</td>\n",
       "    </tr>\n",
       "    <tr>\n",
       "      <th>unique</th>\n",
       "      <td>NaN</td>\n",
       "      <td>134</td>\n",
       "    </tr>\n",
       "    <tr>\n",
       "      <th>top</th>\n",
       "      <td>NaN</td>\n",
       "      <td>specialty wines champagnes</td>\n",
       "    </tr>\n",
       "    <tr>\n",
       "      <th>freq</th>\n",
       "      <td>NaN</td>\n",
       "      <td>1</td>\n",
       "    </tr>\n",
       "    <tr>\n",
       "      <th>mean</th>\n",
       "      <td>67.500000</td>\n",
       "      <td>NaN</td>\n",
       "    </tr>\n",
       "    <tr>\n",
       "      <th>std</th>\n",
       "      <td>38.826537</td>\n",
       "      <td>NaN</td>\n",
       "    </tr>\n",
       "    <tr>\n",
       "      <th>min</th>\n",
       "      <td>1.000000</td>\n",
       "      <td>NaN</td>\n",
       "    </tr>\n",
       "    <tr>\n",
       "      <th>25%</th>\n",
       "      <td>34.250000</td>\n",
       "      <td>NaN</td>\n",
       "    </tr>\n",
       "    <tr>\n",
       "      <th>50%</th>\n",
       "      <td>67.500000</td>\n",
       "      <td>NaN</td>\n",
       "    </tr>\n",
       "    <tr>\n",
       "      <th>75%</th>\n",
       "      <td>100.750000</td>\n",
       "      <td>NaN</td>\n",
       "    </tr>\n",
       "    <tr>\n",
       "      <th>max</th>\n",
       "      <td>134.000000</td>\n",
       "      <td>NaN</td>\n",
       "    </tr>\n",
       "  </tbody>\n",
       "</table>\n",
       "</div>"
      ],
      "text/plain": [
       "          aisle_id                       aisle\n",
       "count   134.000000                         134\n",
       "unique         NaN                         134\n",
       "top            NaN  specialty wines champagnes\n",
       "freq           NaN                           1\n",
       "mean     67.500000                         NaN\n",
       "std      38.826537                         NaN\n",
       "min       1.000000                         NaN\n",
       "25%      34.250000                         NaN\n",
       "50%      67.500000                         NaN\n",
       "75%     100.750000                         NaN\n",
       "max     134.000000                         NaN"
      ]
     },
     "execution_count": 19,
     "metadata": {},
     "output_type": "execute_result"
    }
   ],
   "source": [
    "aisles.describe(include = \"all\")"
   ]
  },
  {
   "cell_type": "code",
   "execution_count": 20,
   "id": "d3930e03-bc36-40cb-a789-00b358f03486",
   "metadata": {},
   "outputs": [
    {
     "data": {
      "text/plain": [
       "(134, 2)"
      ]
     },
     "execution_count": 20,
     "metadata": {},
     "output_type": "execute_result"
    }
   ],
   "source": [
    "aisles.shape"
   ]
  },
  {
   "cell_type": "code",
   "execution_count": 21,
   "id": "0722e3d4-095a-490b-b1b7-c8a52d2103f3",
   "metadata": {},
   "outputs": [
    {
     "data": {
      "text/plain": [
       "Index(['aisle_id', 'aisle'], dtype='object')"
      ]
     },
     "execution_count": 21,
     "metadata": {},
     "output_type": "execute_result"
    }
   ],
   "source": [
    "aisles.columns"
   ]
  },
  {
   "cell_type": "code",
   "execution_count": 22,
   "id": "0a8cc856-c7bc-4777-972e-2f960c26a7df",
   "metadata": {},
   "outputs": [
    {
     "data": {
      "text/plain": [
       "aisle_id     int64\n",
       "aisle       object\n",
       "dtype: object"
      ]
     },
     "execution_count": 22,
     "metadata": {},
     "output_type": "execute_result"
    }
   ],
   "source": [
    "aisles.dtypes"
   ]
  },
  {
   "cell_type": "code",
   "execution_count": 23,
   "id": "080c6e38-1f17-4f0c-8c54-5ae9d11af813",
   "metadata": {},
   "outputs": [
    {
     "data": {
      "text/plain": [
       "aisle\n",
       "specialty wines champagnes       1\n",
       "prepared soups salads            1\n",
       "specialty cheeses                1\n",
       "energy granola bars              1\n",
       "instant foods                    1\n",
       "marinades meat preparation       1\n",
       "frozen dessert                   1\n",
       "yogurt                           1\n",
       "cereal                           1\n",
       "meat counter                     1\n",
       "packaged vegetables fruits       1\n",
       "spirits                          1\n",
       "trail mix snack mix              1\n",
       "feminine care                    1\n",
       "packaged seafood                 1\n",
       "fresh herbs                      1\n",
       "baking ingredients               1\n",
       "bulk dried fruits vegetables     1\n",
       "oils vinegars                    1\n",
       "oral hygiene                     1\n",
       "packaged cheese                  1\n",
       "hair care                        1\n",
       "popcorn jerky                    1\n",
       "fresh fruits                     1\n",
       "soap                             1\n",
       "coffee                           1\n",
       "beers coolers                    1\n",
       "red wines                        1\n",
       "honeys syrups nectars            1\n",
       "latino foods                     1\n",
       "refrigerated                     1\n",
       "packaged produce                 1\n",
       "kosher foods                     1\n",
       "frozen meat seafood              1\n",
       "poultry counter                  1\n",
       "butter                           1\n",
       "ice cream ice                    1\n",
       "frozen meals                     1\n",
       "seafood counter                  1\n",
       "dog food care                    1\n",
       "cat food care                    1\n",
       "frozen vegan vegetarian          1\n",
       "buns rolls                       1\n",
       "eye ear care                     1\n",
       "candy chocolate                  1\n",
       "mint gum                         1\n",
       "vitamins supplements             1\n",
       "breakfast bars pastries          1\n",
       "packaged poultry                 1\n",
       "fruit vegetable snacks           1\n",
       "preserved dips spreads           1\n",
       "frozen breakfast                 1\n",
       "cream                            1\n",
       "paper goods                      1\n",
       "shave needs                      1\n",
       "diapers wipes                    1\n",
       "granola                          1\n",
       "frozen breads doughs             1\n",
       "canned meals beans               1\n",
       "trash bags liners                1\n",
       "cookies cakes                    1\n",
       "white wines                      1\n",
       "grains rice dried goods          1\n",
       "energy sports drinks             1\n",
       "protein meal replacements        1\n",
       "asian foods                      1\n",
       "fresh dips tapenades             1\n",
       "bulk grains rice dried goods     1\n",
       "soup broth bouillon              1\n",
       "digestion                        1\n",
       "refrigerated pudding desserts    1\n",
       "condiments                       1\n",
       "facial care                      1\n",
       "dish detergents                  1\n",
       "laundry                          1\n",
       "indian foods                     1\n",
       "soft drinks                      1\n",
       "crackers                         1\n",
       "frozen pizza                     1\n",
       "deodorants                       1\n",
       "canned jarred vegetables         1\n",
       "baby accessories                 1\n",
       "fresh vegetables                 1\n",
       "milk                             1\n",
       "food storage                     1\n",
       "eggs                             1\n",
       "more household                   1\n",
       "spreads                          1\n",
       "salad dressing toppings          1\n",
       "cocoa drink mixes                1\n",
       "soy lactosefree                  1\n",
       "baby food formula                1\n",
       "breakfast bakery                 1\n",
       "tea                              1\n",
       "canned meat seafood              1\n",
       "lunch meat                       1\n",
       "baking supplies decor            1\n",
       "juice nectars                    1\n",
       "canned fruit applesauce          1\n",
       "missing                          1\n",
       "air fresheners candles           1\n",
       "baby bath body care              1\n",
       "ice cream toppings               1\n",
       "spices seasonings                1\n",
       "doughs gelatins bake mixes       1\n",
       "hot dogs bacon sausage           1\n",
       "chips pretzels                   1\n",
       "other creams cheeses             1\n",
       "skin care                        1\n",
       "pickled goods olives             1\n",
       "plates bowls cups flatware       1\n",
       "bread                            1\n",
       "frozen juice                     1\n",
       "cleaning products                1\n",
       "water seltzer sparkling water    1\n",
       "frozen produce                   1\n",
       "nuts seeds dried fruit           1\n",
       "first aid                        1\n",
       "body lotions soap                1\n",
       "tortillas flat bread             1\n",
       "frozen appetizers sides          1\n",
       "hot cereal pancake mixes         1\n",
       "dry pasta                        1\n",
       "beauty                           1\n",
       "muscles joints pain relief       1\n",
       "other                            1\n",
       "packaged meat                    1\n",
       "bakery desserts                  1\n",
       "pasta sauce                      1\n",
       "kitchen supplies                 1\n",
       "cold flu allergy                 1\n",
       "fresh pasta                      1\n",
       "prepared meals                   1\n",
       "tofu meat alternatives           1\n",
       "Name: count, dtype: int64"
      ]
     },
     "execution_count": 23,
     "metadata": {},
     "output_type": "execute_result"
    }
   ],
   "source": [
    "aisles['aisle'].value_counts()"
   ]
  },
  {
   "cell_type": "code",
   "execution_count": 24,
   "id": "3e48a3ef-dc38-41f4-821b-090fcfc68a3b",
   "metadata": {},
   "outputs": [
    {
     "data": {
      "text/plain": [
       "array(['prepared soups salads', 'specialty cheeses',\n",
       "       'energy granola bars', 'instant foods',\n",
       "       'marinades meat preparation', 'other', 'packaged meat',\n",
       "       'bakery desserts', 'pasta sauce', 'kitchen supplies',\n",
       "       'cold flu allergy', 'fresh pasta', 'prepared meals',\n",
       "       'tofu meat alternatives', 'packaged seafood', 'fresh herbs',\n",
       "       'baking ingredients', 'bulk dried fruits vegetables',\n",
       "       'oils vinegars', 'oral hygiene', 'packaged cheese', 'hair care',\n",
       "       'popcorn jerky', 'fresh fruits', 'soap', 'coffee', 'beers coolers',\n",
       "       'red wines', 'honeys syrups nectars', 'latino foods',\n",
       "       'refrigerated', 'packaged produce', 'kosher foods',\n",
       "       'frozen meat seafood', 'poultry counter', 'butter',\n",
       "       'ice cream ice', 'frozen meals', 'seafood counter',\n",
       "       'dog food care', 'cat food care', 'frozen vegan vegetarian',\n",
       "       'buns rolls', 'eye ear care', 'candy chocolate', 'mint gum',\n",
       "       'vitamins supplements', 'breakfast bars pastries',\n",
       "       'packaged poultry', 'fruit vegetable snacks',\n",
       "       'preserved dips spreads', 'frozen breakfast', 'cream',\n",
       "       'paper goods', 'shave needs', 'diapers wipes', 'granola',\n",
       "       'frozen breads doughs', 'canned meals beans', 'trash bags liners',\n",
       "       'cookies cakes', 'white wines', 'grains rice dried goods',\n",
       "       'energy sports drinks', 'protein meal replacements', 'asian foods',\n",
       "       'fresh dips tapenades', 'bulk grains rice dried goods',\n",
       "       'soup broth bouillon', 'digestion',\n",
       "       'refrigerated pudding desserts', 'condiments', 'facial care',\n",
       "       'dish detergents', 'laundry', 'indian foods', 'soft drinks',\n",
       "       'crackers', 'frozen pizza', 'deodorants',\n",
       "       'canned jarred vegetables', 'baby accessories', 'fresh vegetables',\n",
       "       'milk', 'food storage', 'eggs', 'more household', 'spreads',\n",
       "       'salad dressing toppings', 'cocoa drink mixes', 'soy lactosefree',\n",
       "       'baby food formula', 'breakfast bakery', 'tea',\n",
       "       'canned meat seafood', 'lunch meat', 'baking supplies decor',\n",
       "       'juice nectars', 'canned fruit applesauce', 'missing',\n",
       "       'air fresheners candles', 'baby bath body care',\n",
       "       'ice cream toppings', 'spices seasonings',\n",
       "       'doughs gelatins bake mixes', 'hot dogs bacon sausage',\n",
       "       'chips pretzels', 'other creams cheeses', 'skin care',\n",
       "       'pickled goods olives', 'plates bowls cups flatware', 'bread',\n",
       "       'frozen juice', 'cleaning products',\n",
       "       'water seltzer sparkling water', 'frozen produce',\n",
       "       'nuts seeds dried fruit', 'first aid', 'frozen dessert', 'yogurt',\n",
       "       'cereal', 'meat counter', 'packaged vegetables fruits', 'spirits',\n",
       "       'trail mix snack mix', 'feminine care', 'body lotions soap',\n",
       "       'tortillas flat bread', 'frozen appetizers sides',\n",
       "       'hot cereal pancake mixes', 'dry pasta', 'beauty',\n",
       "       'muscles joints pain relief', 'specialty wines champagnes'],\n",
       "      dtype=object)"
      ]
     },
     "execution_count": 24,
     "metadata": {},
     "output_type": "execute_result"
    }
   ],
   "source": [
    "aisles['aisle'].unique()"
   ]
  },
  {
   "cell_type": "code",
   "execution_count": 25,
   "id": "e5224c85-8e04-4925-8ec5-c53c0c8b6f82",
   "metadata": {},
   "outputs": [
    {
     "data": {
      "text/plain": [
       "aisle_id    134\n",
       "aisle       134\n",
       "dtype: int64"
      ]
     },
     "execution_count": 25,
     "metadata": {},
     "output_type": "execute_result"
    }
   ],
   "source": [
    "aisles.nunique()"
   ]
  },
  {
   "cell_type": "code",
   "execution_count": 26,
   "id": "2e2cd516-f35a-4561-8738-f115e076f108",
   "metadata": {},
   "outputs": [
    {
     "data": {
      "text/plain": [
       "aisle_id    0\n",
       "aisle       0\n",
       "dtype: int64"
      ]
     },
     "execution_count": 26,
     "metadata": {},
     "output_type": "execute_result"
    }
   ],
   "source": [
    "aisles.isnull().sum()"
   ]
  },
  {
   "cell_type": "markdown",
   "id": "8e828300-2dea-4713-8a82-3896a9f0c110",
   "metadata": {
    "jp-MarkdownHeadingCollapsed": true
   },
   "source": [
    "##### Load and Overview of departments.csv"
   ]
  },
  {
   "cell_type": "code",
   "execution_count": 28,
   "id": "72b33230-f5a8-43d9-b3f1-4dff3f983cbc",
   "metadata": {},
   "outputs": [],
   "source": [
    "departments = pd.read_csv(\"/Users/vythreynarayanam/Downloads/DA Consultancy/Instacart_Market_Basket_EDA_Python/departments.csv\")"
   ]
  },
  {
   "cell_type": "code",
   "execution_count": 29,
   "id": "793709b1-ba10-4a59-92d6-300501b4f216",
   "metadata": {},
   "outputs": [
    {
     "data": {
      "text/html": [
       "<div>\n",
       "<style scoped>\n",
       "    .dataframe tbody tr th:only-of-type {\n",
       "        vertical-align: middle;\n",
       "    }\n",
       "\n",
       "    .dataframe tbody tr th {\n",
       "        vertical-align: top;\n",
       "    }\n",
       "\n",
       "    .dataframe thead th {\n",
       "        text-align: right;\n",
       "    }\n",
       "</style>\n",
       "<table border=\"1\" class=\"dataframe\">\n",
       "  <thead>\n",
       "    <tr style=\"text-align: right;\">\n",
       "      <th></th>\n",
       "      <th>department_id</th>\n",
       "      <th>department</th>\n",
       "    </tr>\n",
       "  </thead>\n",
       "  <tbody>\n",
       "    <tr>\n",
       "      <th>0</th>\n",
       "      <td>1</td>\n",
       "      <td>frozen</td>\n",
       "    </tr>\n",
       "    <tr>\n",
       "      <th>1</th>\n",
       "      <td>2</td>\n",
       "      <td>other</td>\n",
       "    </tr>\n",
       "    <tr>\n",
       "      <th>2</th>\n",
       "      <td>3</td>\n",
       "      <td>bakery</td>\n",
       "    </tr>\n",
       "    <tr>\n",
       "      <th>3</th>\n",
       "      <td>4</td>\n",
       "      <td>produce</td>\n",
       "    </tr>\n",
       "    <tr>\n",
       "      <th>4</th>\n",
       "      <td>5</td>\n",
       "      <td>alcohol</td>\n",
       "    </tr>\n",
       "  </tbody>\n",
       "</table>\n",
       "</div>"
      ],
      "text/plain": [
       "   department_id department\n",
       "0              1     frozen\n",
       "1              2      other\n",
       "2              3     bakery\n",
       "3              4    produce\n",
       "4              5    alcohol"
      ]
     },
     "execution_count": 29,
     "metadata": {},
     "output_type": "execute_result"
    }
   ],
   "source": [
    "departments.head()"
   ]
  },
  {
   "cell_type": "code",
   "execution_count": 30,
   "id": "c0355f03-252b-4a12-9f23-5cb24e1cdbe3",
   "metadata": {},
   "outputs": [
    {
     "data": {
      "text/html": [
       "<div>\n",
       "<style scoped>\n",
       "    .dataframe tbody tr th:only-of-type {\n",
       "        vertical-align: middle;\n",
       "    }\n",
       "\n",
       "    .dataframe tbody tr th {\n",
       "        vertical-align: top;\n",
       "    }\n",
       "\n",
       "    .dataframe thead th {\n",
       "        text-align: right;\n",
       "    }\n",
       "</style>\n",
       "<table border=\"1\" class=\"dataframe\">\n",
       "  <thead>\n",
       "    <tr style=\"text-align: right;\">\n",
       "      <th></th>\n",
       "      <th>department_id</th>\n",
       "      <th>department</th>\n",
       "    </tr>\n",
       "  </thead>\n",
       "  <tbody>\n",
       "    <tr>\n",
       "      <th>16</th>\n",
       "      <td>17</td>\n",
       "      <td>household</td>\n",
       "    </tr>\n",
       "    <tr>\n",
       "      <th>17</th>\n",
       "      <td>18</td>\n",
       "      <td>babies</td>\n",
       "    </tr>\n",
       "    <tr>\n",
       "      <th>18</th>\n",
       "      <td>19</td>\n",
       "      <td>snacks</td>\n",
       "    </tr>\n",
       "    <tr>\n",
       "      <th>19</th>\n",
       "      <td>20</td>\n",
       "      <td>deli</td>\n",
       "    </tr>\n",
       "    <tr>\n",
       "      <th>20</th>\n",
       "      <td>21</td>\n",
       "      <td>missing</td>\n",
       "    </tr>\n",
       "  </tbody>\n",
       "</table>\n",
       "</div>"
      ],
      "text/plain": [
       "    department_id department\n",
       "16             17  household\n",
       "17             18     babies\n",
       "18             19     snacks\n",
       "19             20       deli\n",
       "20             21    missing"
      ]
     },
     "execution_count": 30,
     "metadata": {},
     "output_type": "execute_result"
    }
   ],
   "source": [
    "departments.tail()"
   ]
  },
  {
   "cell_type": "code",
   "execution_count": 31,
   "id": "2b062693-cfe5-4503-8b1e-c0fa4f2c8452",
   "metadata": {},
   "outputs": [
    {
     "name": "stdout",
     "output_type": "stream",
     "text": [
      "<class 'pandas.core.frame.DataFrame'>\n",
      "RangeIndex: 21 entries, 0 to 20\n",
      "Data columns (total 2 columns):\n",
      " #   Column         Non-Null Count  Dtype \n",
      "---  ------         --------------  ----- \n",
      " 0   department_id  21 non-null     int64 \n",
      " 1   department     21 non-null     object\n",
      "dtypes: int64(1), object(1)\n",
      "memory usage: 468.0+ bytes\n"
     ]
    }
   ],
   "source": [
    "departments.info()"
   ]
  },
  {
   "cell_type": "code",
   "execution_count": 32,
   "id": "9b4e29e7-efe2-43b4-9542-4c9c03f018f1",
   "metadata": {},
   "outputs": [
    {
     "data": {
      "text/html": [
       "<div>\n",
       "<style scoped>\n",
       "    .dataframe tbody tr th:only-of-type {\n",
       "        vertical-align: middle;\n",
       "    }\n",
       "\n",
       "    .dataframe tbody tr th {\n",
       "        vertical-align: top;\n",
       "    }\n",
       "\n",
       "    .dataframe thead th {\n",
       "        text-align: right;\n",
       "    }\n",
       "</style>\n",
       "<table border=\"1\" class=\"dataframe\">\n",
       "  <thead>\n",
       "    <tr style=\"text-align: right;\">\n",
       "      <th></th>\n",
       "      <th>department_id</th>\n",
       "      <th>department</th>\n",
       "    </tr>\n",
       "  </thead>\n",
       "  <tbody>\n",
       "    <tr>\n",
       "      <th>count</th>\n",
       "      <td>21.000000</td>\n",
       "      <td>21</td>\n",
       "    </tr>\n",
       "    <tr>\n",
       "      <th>unique</th>\n",
       "      <td>NaN</td>\n",
       "      <td>21</td>\n",
       "    </tr>\n",
       "    <tr>\n",
       "      <th>top</th>\n",
       "      <td>NaN</td>\n",
       "      <td>frozen</td>\n",
       "    </tr>\n",
       "    <tr>\n",
       "      <th>freq</th>\n",
       "      <td>NaN</td>\n",
       "      <td>1</td>\n",
       "    </tr>\n",
       "    <tr>\n",
       "      <th>mean</th>\n",
       "      <td>11.000000</td>\n",
       "      <td>NaN</td>\n",
       "    </tr>\n",
       "    <tr>\n",
       "      <th>std</th>\n",
       "      <td>6.204837</td>\n",
       "      <td>NaN</td>\n",
       "    </tr>\n",
       "    <tr>\n",
       "      <th>min</th>\n",
       "      <td>1.000000</td>\n",
       "      <td>NaN</td>\n",
       "    </tr>\n",
       "    <tr>\n",
       "      <th>25%</th>\n",
       "      <td>6.000000</td>\n",
       "      <td>NaN</td>\n",
       "    </tr>\n",
       "    <tr>\n",
       "      <th>50%</th>\n",
       "      <td>11.000000</td>\n",
       "      <td>NaN</td>\n",
       "    </tr>\n",
       "    <tr>\n",
       "      <th>75%</th>\n",
       "      <td>16.000000</td>\n",
       "      <td>NaN</td>\n",
       "    </tr>\n",
       "    <tr>\n",
       "      <th>max</th>\n",
       "      <td>21.000000</td>\n",
       "      <td>NaN</td>\n",
       "    </tr>\n",
       "  </tbody>\n",
       "</table>\n",
       "</div>"
      ],
      "text/plain": [
       "        department_id department\n",
       "count       21.000000         21\n",
       "unique            NaN         21\n",
       "top               NaN     frozen\n",
       "freq              NaN          1\n",
       "mean        11.000000        NaN\n",
       "std          6.204837        NaN\n",
       "min          1.000000        NaN\n",
       "25%          6.000000        NaN\n",
       "50%         11.000000        NaN\n",
       "75%         16.000000        NaN\n",
       "max         21.000000        NaN"
      ]
     },
     "execution_count": 32,
     "metadata": {},
     "output_type": "execute_result"
    }
   ],
   "source": [
    "departments.describe(include = \"all\")"
   ]
  },
  {
   "cell_type": "code",
   "execution_count": 33,
   "id": "bed15f91-c8df-4bb1-a79b-5564a39b65bd",
   "metadata": {},
   "outputs": [
    {
     "data": {
      "text/plain": [
       "(21, 2)"
      ]
     },
     "execution_count": 33,
     "metadata": {},
     "output_type": "execute_result"
    }
   ],
   "source": [
    "departments.shape"
   ]
  },
  {
   "cell_type": "code",
   "execution_count": 34,
   "id": "a00eed4f-574f-49a3-8d37-fdb573c6a11e",
   "metadata": {},
   "outputs": [
    {
     "data": {
      "text/plain": [
       "Index(['department_id', 'department'], dtype='object')"
      ]
     },
     "execution_count": 34,
     "metadata": {},
     "output_type": "execute_result"
    }
   ],
   "source": [
    "departments.columns"
   ]
  },
  {
   "cell_type": "code",
   "execution_count": 35,
   "id": "695a5e03-72f7-4394-8ed1-e547db436e64",
   "metadata": {},
   "outputs": [
    {
     "data": {
      "text/plain": [
       "department_id     int64\n",
       "department       object\n",
       "dtype: object"
      ]
     },
     "execution_count": 35,
     "metadata": {},
     "output_type": "execute_result"
    }
   ],
   "source": [
    "departments.dtypes"
   ]
  },
  {
   "cell_type": "code",
   "execution_count": 36,
   "id": "bbf81933-68f2-4bf6-8add-bb7f4c142591",
   "metadata": {},
   "outputs": [
    {
     "data": {
      "text/plain": [
       "department_id  department     \n",
       "1              frozen             1\n",
       "2              other              1\n",
       "3              bakery             1\n",
       "4              produce            1\n",
       "5              alcohol            1\n",
       "6              international      1\n",
       "7              beverages          1\n",
       "8              pets               1\n",
       "9              dry goods pasta    1\n",
       "10             bulk               1\n",
       "11             personal care      1\n",
       "12             meat seafood       1\n",
       "13             pantry             1\n",
       "14             breakfast          1\n",
       "15             canned goods       1\n",
       "16             dairy eggs         1\n",
       "17             household          1\n",
       "18             babies             1\n",
       "19             snacks             1\n",
       "20             deli               1\n",
       "21             missing            1\n",
       "Name: count, dtype: int64"
      ]
     },
     "execution_count": 36,
     "metadata": {},
     "output_type": "execute_result"
    }
   ],
   "source": [
    "departments.value_counts()"
   ]
  },
  {
   "cell_type": "code",
   "execution_count": 37,
   "id": "47f72b48-6b6e-473c-814e-52d12b8ac59e",
   "metadata": {},
   "outputs": [
    {
     "data": {
      "text/plain": [
       "department_id    21\n",
       "department       21\n",
       "dtype: int64"
      ]
     },
     "execution_count": 37,
     "metadata": {},
     "output_type": "execute_result"
    }
   ],
   "source": [
    "departments.nunique()"
   ]
  },
  {
   "cell_type": "code",
   "execution_count": 38,
   "id": "5c5c1542-30c0-45e5-bdf6-eec273d98844",
   "metadata": {},
   "outputs": [
    {
     "data": {
      "text/plain": [
       "array(['frozen', 'other', 'bakery', 'produce', 'alcohol', 'international',\n",
       "       'beverages', 'pets', 'dry goods pasta', 'bulk', 'personal care',\n",
       "       'meat seafood', 'pantry', 'breakfast', 'canned goods',\n",
       "       'dairy eggs', 'household', 'babies', 'snacks', 'deli', 'missing'],\n",
       "      dtype=object)"
      ]
     },
     "execution_count": 38,
     "metadata": {},
     "output_type": "execute_result"
    }
   ],
   "source": [
    "departments['department'].unique()"
   ]
  },
  {
   "cell_type": "code",
   "execution_count": 39,
   "id": "398afe23-4167-4b7c-a44f-d34998fc995d",
   "metadata": {},
   "outputs": [
    {
     "data": {
      "text/plain": [
       "department_id    0\n",
       "department       0\n",
       "dtype: int64"
      ]
     },
     "execution_count": 39,
     "metadata": {},
     "output_type": "execute_result"
    }
   ],
   "source": [
    "departments.isnull().sum()"
   ]
  },
  {
   "cell_type": "markdown",
   "id": "138cc3e0-2ab6-4d2c-8848-9e8164363234",
   "metadata": {
    "jp-MarkdownHeadingCollapsed": true
   },
   "source": [
    "##### Load and Overview of order_products__prior.csv"
   ]
  },
  {
   "cell_type": "code",
   "execution_count": 41,
   "id": "15a5d9e9-c7f4-4ef0-8c2b-9d53370a7208",
   "metadata": {},
   "outputs": [],
   "source": [
    "order_products__prior = pd.read_csv(\"/Users/vythreynarayanam/Downloads/DA Consultancy/Instacart_Market_Basket_EDA_Python/order_products__prior.csv\")"
   ]
  },
  {
   "cell_type": "code",
   "execution_count": 42,
   "id": "6aae9afe-fed4-4754-8e58-cbfee72eaacc",
   "metadata": {},
   "outputs": [
    {
     "data": {
      "text/html": [
       "<div>\n",
       "<style scoped>\n",
       "    .dataframe tbody tr th:only-of-type {\n",
       "        vertical-align: middle;\n",
       "    }\n",
       "\n",
       "    .dataframe tbody tr th {\n",
       "        vertical-align: top;\n",
       "    }\n",
       "\n",
       "    .dataframe thead th {\n",
       "        text-align: right;\n",
       "    }\n",
       "</style>\n",
       "<table border=\"1\" class=\"dataframe\">\n",
       "  <thead>\n",
       "    <tr style=\"text-align: right;\">\n",
       "      <th></th>\n",
       "      <th>order_id</th>\n",
       "      <th>product_id</th>\n",
       "      <th>add_to_cart_order</th>\n",
       "      <th>reordered</th>\n",
       "    </tr>\n",
       "  </thead>\n",
       "  <tbody>\n",
       "    <tr>\n",
       "      <th>0</th>\n",
       "      <td>2</td>\n",
       "      <td>33120</td>\n",
       "      <td>1</td>\n",
       "      <td>1</td>\n",
       "    </tr>\n",
       "    <tr>\n",
       "      <th>1</th>\n",
       "      <td>2</td>\n",
       "      <td>28985</td>\n",
       "      <td>2</td>\n",
       "      <td>1</td>\n",
       "    </tr>\n",
       "    <tr>\n",
       "      <th>2</th>\n",
       "      <td>2</td>\n",
       "      <td>9327</td>\n",
       "      <td>3</td>\n",
       "      <td>0</td>\n",
       "    </tr>\n",
       "    <tr>\n",
       "      <th>3</th>\n",
       "      <td>2</td>\n",
       "      <td>45918</td>\n",
       "      <td>4</td>\n",
       "      <td>1</td>\n",
       "    </tr>\n",
       "    <tr>\n",
       "      <th>4</th>\n",
       "      <td>2</td>\n",
       "      <td>30035</td>\n",
       "      <td>5</td>\n",
       "      <td>0</td>\n",
       "    </tr>\n",
       "  </tbody>\n",
       "</table>\n",
       "</div>"
      ],
      "text/plain": [
       "   order_id  product_id  add_to_cart_order  reordered\n",
       "0         2       33120                  1          1\n",
       "1         2       28985                  2          1\n",
       "2         2        9327                  3          0\n",
       "3         2       45918                  4          1\n",
       "4         2       30035                  5          0"
      ]
     },
     "execution_count": 42,
     "metadata": {},
     "output_type": "execute_result"
    }
   ],
   "source": [
    "order_products__prior.head()"
   ]
  },
  {
   "cell_type": "code",
   "execution_count": 43,
   "id": "b19cb635-8581-4091-9011-f94cf0efdac2",
   "metadata": {},
   "outputs": [
    {
     "data": {
      "text/html": [
       "<div>\n",
       "<style scoped>\n",
       "    .dataframe tbody tr th:only-of-type {\n",
       "        vertical-align: middle;\n",
       "    }\n",
       "\n",
       "    .dataframe tbody tr th {\n",
       "        vertical-align: top;\n",
       "    }\n",
       "\n",
       "    .dataframe thead th {\n",
       "        text-align: right;\n",
       "    }\n",
       "</style>\n",
       "<table border=\"1\" class=\"dataframe\">\n",
       "  <thead>\n",
       "    <tr style=\"text-align: right;\">\n",
       "      <th></th>\n",
       "      <th>order_id</th>\n",
       "      <th>product_id</th>\n",
       "      <th>add_to_cart_order</th>\n",
       "      <th>reordered</th>\n",
       "    </tr>\n",
       "  </thead>\n",
       "  <tbody>\n",
       "    <tr>\n",
       "      <th>32434484</th>\n",
       "      <td>3421083</td>\n",
       "      <td>39678</td>\n",
       "      <td>6</td>\n",
       "      <td>1</td>\n",
       "    </tr>\n",
       "    <tr>\n",
       "      <th>32434485</th>\n",
       "      <td>3421083</td>\n",
       "      <td>11352</td>\n",
       "      <td>7</td>\n",
       "      <td>0</td>\n",
       "    </tr>\n",
       "    <tr>\n",
       "      <th>32434486</th>\n",
       "      <td>3421083</td>\n",
       "      <td>4600</td>\n",
       "      <td>8</td>\n",
       "      <td>0</td>\n",
       "    </tr>\n",
       "    <tr>\n",
       "      <th>32434487</th>\n",
       "      <td>3421083</td>\n",
       "      <td>24852</td>\n",
       "      <td>9</td>\n",
       "      <td>1</td>\n",
       "    </tr>\n",
       "    <tr>\n",
       "      <th>32434488</th>\n",
       "      <td>3421083</td>\n",
       "      <td>5020</td>\n",
       "      <td>10</td>\n",
       "      <td>1</td>\n",
       "    </tr>\n",
       "  </tbody>\n",
       "</table>\n",
       "</div>"
      ],
      "text/plain": [
       "          order_id  product_id  add_to_cart_order  reordered\n",
       "32434484   3421083       39678                  6          1\n",
       "32434485   3421083       11352                  7          0\n",
       "32434486   3421083        4600                  8          0\n",
       "32434487   3421083       24852                  9          1\n",
       "32434488   3421083        5020                 10          1"
      ]
     },
     "execution_count": 43,
     "metadata": {},
     "output_type": "execute_result"
    }
   ],
   "source": [
    "order_products__prior.tail()"
   ]
  },
  {
   "cell_type": "code",
   "execution_count": 44,
   "id": "3e351067-143d-43b2-ad9a-07ebb9c5898b",
   "metadata": {},
   "outputs": [
    {
     "name": "stdout",
     "output_type": "stream",
     "text": [
      "<class 'pandas.core.frame.DataFrame'>\n",
      "RangeIndex: 32434489 entries, 0 to 32434488\n",
      "Data columns (total 4 columns):\n",
      " #   Column             Dtype\n",
      "---  ------             -----\n",
      " 0   order_id           int64\n",
      " 1   product_id         int64\n",
      " 2   add_to_cart_order  int64\n",
      " 3   reordered          int64\n",
      "dtypes: int64(4)\n",
      "memory usage: 989.8 MB\n"
     ]
    }
   ],
   "source": [
    "order_products__prior.info()"
   ]
  },
  {
   "cell_type": "code",
   "execution_count": 45,
   "id": "d7e228b3-02ca-4341-ad10-5a02b6e13a58",
   "metadata": {},
   "outputs": [
    {
     "data": {
      "text/html": [
       "<div>\n",
       "<style scoped>\n",
       "    .dataframe tbody tr th:only-of-type {\n",
       "        vertical-align: middle;\n",
       "    }\n",
       "\n",
       "    .dataframe tbody tr th {\n",
       "        vertical-align: top;\n",
       "    }\n",
       "\n",
       "    .dataframe thead th {\n",
       "        text-align: right;\n",
       "    }\n",
       "</style>\n",
       "<table border=\"1\" class=\"dataframe\">\n",
       "  <thead>\n",
       "    <tr style=\"text-align: right;\">\n",
       "      <th></th>\n",
       "      <th>order_id</th>\n",
       "      <th>product_id</th>\n",
       "      <th>add_to_cart_order</th>\n",
       "      <th>reordered</th>\n",
       "    </tr>\n",
       "  </thead>\n",
       "  <tbody>\n",
       "    <tr>\n",
       "      <th>count</th>\n",
       "      <td>3.243449e+07</td>\n",
       "      <td>3.243449e+07</td>\n",
       "      <td>3.243449e+07</td>\n",
       "      <td>3.243449e+07</td>\n",
       "    </tr>\n",
       "    <tr>\n",
       "      <th>mean</th>\n",
       "      <td>1.710749e+06</td>\n",
       "      <td>2.557634e+04</td>\n",
       "      <td>8.351076e+00</td>\n",
       "      <td>5.896975e-01</td>\n",
       "    </tr>\n",
       "    <tr>\n",
       "      <th>std</th>\n",
       "      <td>9.873007e+05</td>\n",
       "      <td>1.409669e+04</td>\n",
       "      <td>7.126671e+00</td>\n",
       "      <td>4.918886e-01</td>\n",
       "    </tr>\n",
       "    <tr>\n",
       "      <th>min</th>\n",
       "      <td>2.000000e+00</td>\n",
       "      <td>1.000000e+00</td>\n",
       "      <td>1.000000e+00</td>\n",
       "      <td>0.000000e+00</td>\n",
       "    </tr>\n",
       "    <tr>\n",
       "      <th>25%</th>\n",
       "      <td>8.559430e+05</td>\n",
       "      <td>1.353000e+04</td>\n",
       "      <td>3.000000e+00</td>\n",
       "      <td>0.000000e+00</td>\n",
       "    </tr>\n",
       "    <tr>\n",
       "      <th>50%</th>\n",
       "      <td>1.711048e+06</td>\n",
       "      <td>2.525600e+04</td>\n",
       "      <td>6.000000e+00</td>\n",
       "      <td>1.000000e+00</td>\n",
       "    </tr>\n",
       "    <tr>\n",
       "      <th>75%</th>\n",
       "      <td>2.565514e+06</td>\n",
       "      <td>3.793500e+04</td>\n",
       "      <td>1.100000e+01</td>\n",
       "      <td>1.000000e+00</td>\n",
       "    </tr>\n",
       "    <tr>\n",
       "      <th>max</th>\n",
       "      <td>3.421083e+06</td>\n",
       "      <td>4.968800e+04</td>\n",
       "      <td>1.450000e+02</td>\n",
       "      <td>1.000000e+00</td>\n",
       "    </tr>\n",
       "  </tbody>\n",
       "</table>\n",
       "</div>"
      ],
      "text/plain": [
       "           order_id    product_id  add_to_cart_order     reordered\n",
       "count  3.243449e+07  3.243449e+07       3.243449e+07  3.243449e+07\n",
       "mean   1.710749e+06  2.557634e+04       8.351076e+00  5.896975e-01\n",
       "std    9.873007e+05  1.409669e+04       7.126671e+00  4.918886e-01\n",
       "min    2.000000e+00  1.000000e+00       1.000000e+00  0.000000e+00\n",
       "25%    8.559430e+05  1.353000e+04       3.000000e+00  0.000000e+00\n",
       "50%    1.711048e+06  2.525600e+04       6.000000e+00  1.000000e+00\n",
       "75%    2.565514e+06  3.793500e+04       1.100000e+01  1.000000e+00\n",
       "max    3.421083e+06  4.968800e+04       1.450000e+02  1.000000e+00"
      ]
     },
     "execution_count": 45,
     "metadata": {},
     "output_type": "execute_result"
    }
   ],
   "source": [
    "order_products__prior.describe(include ='all')"
   ]
  },
  {
   "cell_type": "code",
   "execution_count": 46,
   "id": "642c320d-2aab-4ed7-981d-8284124b8817",
   "metadata": {},
   "outputs": [
    {
     "data": {
      "text/plain": [
       "(32434489, 4)"
      ]
     },
     "execution_count": 46,
     "metadata": {},
     "output_type": "execute_result"
    }
   ],
   "source": [
    "order_products__prior.shape"
   ]
  },
  {
   "cell_type": "code",
   "execution_count": 47,
   "id": "7d61b876-4837-486d-af5a-275fe32b8cf7",
   "metadata": {},
   "outputs": [
    {
     "data": {
      "text/plain": [
       "Index(['order_id', 'product_id', 'add_to_cart_order', 'reordered'], dtype='object')"
      ]
     },
     "execution_count": 47,
     "metadata": {},
     "output_type": "execute_result"
    }
   ],
   "source": [
    "order_products__prior.columns"
   ]
  },
  {
   "cell_type": "code",
   "execution_count": 48,
   "id": "345d8316-7c0c-4bb8-8618-0333e1843a21",
   "metadata": {},
   "outputs": [
    {
     "data": {
      "text/plain": [
       "order_id             int64\n",
       "product_id           int64\n",
       "add_to_cart_order    int64\n",
       "reordered            int64\n",
       "dtype: object"
      ]
     },
     "execution_count": 48,
     "metadata": {},
     "output_type": "execute_result"
    }
   ],
   "source": [
    "order_products__prior.dtypes"
   ]
  },
  {
   "cell_type": "code",
   "execution_count": 49,
   "id": "1036fdc6-cd3a-49e7-894b-6a29a8a2a7de",
   "metadata": {},
   "outputs": [
    {
     "data": {
      "text/plain": [
       "reordered\n",
       "1    19126536\n",
       "0    13307953\n",
       "Name: count, dtype: int64"
      ]
     },
     "execution_count": 49,
     "metadata": {},
     "output_type": "execute_result"
    }
   ],
   "source": [
    "order_products__prior[\"reordered\"].value_counts()"
   ]
  },
  {
   "cell_type": "code",
   "execution_count": 50,
   "id": "e3e5e311-6571-4f41-98de-7adb0043a0e3",
   "metadata": {},
   "outputs": [
    {
     "data": {
      "text/plain": [
       "array([1, 0])"
      ]
     },
     "execution_count": 50,
     "metadata": {},
     "output_type": "execute_result"
    }
   ],
   "source": [
    "order_products__prior['reordered'].unique()"
   ]
  },
  {
   "cell_type": "code",
   "execution_count": 51,
   "id": "1ecd6d1c-d193-4b39-852e-fafe4a863407",
   "metadata": {},
   "outputs": [
    {
     "data": {
      "text/plain": [
       "order_id             3214874\n",
       "product_id             49677\n",
       "add_to_cart_order        145\n",
       "reordered                  2\n",
       "dtype: int64"
      ]
     },
     "execution_count": 51,
     "metadata": {},
     "output_type": "execute_result"
    }
   ],
   "source": [
    "order_products__prior.nunique()"
   ]
  },
  {
   "cell_type": "code",
   "execution_count": 52,
   "id": "27c79798-1973-436f-bd1c-a2c21995dffa",
   "metadata": {},
   "outputs": [
    {
     "data": {
      "text/plain": [
       "order_id             0\n",
       "product_id           0\n",
       "add_to_cart_order    0\n",
       "reordered            0\n",
       "dtype: int64"
      ]
     },
     "execution_count": 52,
     "metadata": {},
     "output_type": "execute_result"
    }
   ],
   "source": [
    "order_products__prior.isnull().sum()"
   ]
  },
  {
   "cell_type": "markdown",
   "id": "01215c0d-97b0-42b7-883e-28a9b81a5dd0",
   "metadata": {
    "jp-MarkdownHeadingCollapsed": true
   },
   "source": [
    "##### Load and Overview of order_products__train.csv"
   ]
  },
  {
   "cell_type": "code",
   "execution_count": 54,
   "id": "68e85ece-21d2-4d84-baac-0c091ed1236a",
   "metadata": {},
   "outputs": [],
   "source": [
    "order_products__train = pd.read_csv(\"/Users/vythreynarayanam/Downloads/DA Consultancy/Instacart_Market_Basket_EDA_Python/order_products__train.csv\")"
   ]
  },
  {
   "cell_type": "code",
   "execution_count": 55,
   "id": "994590f6-b86f-4e47-8a12-f84a36465647",
   "metadata": {},
   "outputs": [
    {
     "data": {
      "text/html": [
       "<div>\n",
       "<style scoped>\n",
       "    .dataframe tbody tr th:only-of-type {\n",
       "        vertical-align: middle;\n",
       "    }\n",
       "\n",
       "    .dataframe tbody tr th {\n",
       "        vertical-align: top;\n",
       "    }\n",
       "\n",
       "    .dataframe thead th {\n",
       "        text-align: right;\n",
       "    }\n",
       "</style>\n",
       "<table border=\"1\" class=\"dataframe\">\n",
       "  <thead>\n",
       "    <tr style=\"text-align: right;\">\n",
       "      <th></th>\n",
       "      <th>order_id</th>\n",
       "      <th>product_id</th>\n",
       "      <th>add_to_cart_order</th>\n",
       "      <th>reordered</th>\n",
       "    </tr>\n",
       "  </thead>\n",
       "  <tbody>\n",
       "    <tr>\n",
       "      <th>0</th>\n",
       "      <td>1</td>\n",
       "      <td>49302</td>\n",
       "      <td>1</td>\n",
       "      <td>1</td>\n",
       "    </tr>\n",
       "    <tr>\n",
       "      <th>1</th>\n",
       "      <td>1</td>\n",
       "      <td>11109</td>\n",
       "      <td>2</td>\n",
       "      <td>1</td>\n",
       "    </tr>\n",
       "    <tr>\n",
       "      <th>2</th>\n",
       "      <td>1</td>\n",
       "      <td>10246</td>\n",
       "      <td>3</td>\n",
       "      <td>0</td>\n",
       "    </tr>\n",
       "    <tr>\n",
       "      <th>3</th>\n",
       "      <td>1</td>\n",
       "      <td>49683</td>\n",
       "      <td>4</td>\n",
       "      <td>0</td>\n",
       "    </tr>\n",
       "    <tr>\n",
       "      <th>4</th>\n",
       "      <td>1</td>\n",
       "      <td>43633</td>\n",
       "      <td>5</td>\n",
       "      <td>1</td>\n",
       "    </tr>\n",
       "    <tr>\n",
       "      <th>5</th>\n",
       "      <td>1</td>\n",
       "      <td>13176</td>\n",
       "      <td>6</td>\n",
       "      <td>0</td>\n",
       "    </tr>\n",
       "    <tr>\n",
       "      <th>6</th>\n",
       "      <td>1</td>\n",
       "      <td>47209</td>\n",
       "      <td>7</td>\n",
       "      <td>0</td>\n",
       "    </tr>\n",
       "    <tr>\n",
       "      <th>7</th>\n",
       "      <td>1</td>\n",
       "      <td>22035</td>\n",
       "      <td>8</td>\n",
       "      <td>1</td>\n",
       "    </tr>\n",
       "    <tr>\n",
       "      <th>8</th>\n",
       "      <td>36</td>\n",
       "      <td>39612</td>\n",
       "      <td>1</td>\n",
       "      <td>0</td>\n",
       "    </tr>\n",
       "    <tr>\n",
       "      <th>9</th>\n",
       "      <td>36</td>\n",
       "      <td>19660</td>\n",
       "      <td>2</td>\n",
       "      <td>1</td>\n",
       "    </tr>\n",
       "  </tbody>\n",
       "</table>\n",
       "</div>"
      ],
      "text/plain": [
       "   order_id  product_id  add_to_cart_order  reordered\n",
       "0         1       49302                  1          1\n",
       "1         1       11109                  2          1\n",
       "2         1       10246                  3          0\n",
       "3         1       49683                  4          0\n",
       "4         1       43633                  5          1\n",
       "5         1       13176                  6          0\n",
       "6         1       47209                  7          0\n",
       "7         1       22035                  8          1\n",
       "8        36       39612                  1          0\n",
       "9        36       19660                  2          1"
      ]
     },
     "execution_count": 55,
     "metadata": {},
     "output_type": "execute_result"
    }
   ],
   "source": [
    "order_products__train.head(10)"
   ]
  },
  {
   "cell_type": "code",
   "execution_count": 56,
   "id": "3854fc25-12a9-4dd8-9775-a33b3c8e3126",
   "metadata": {},
   "outputs": [
    {
     "data": {
      "text/html": [
       "<div>\n",
       "<style scoped>\n",
       "    .dataframe tbody tr th:only-of-type {\n",
       "        vertical-align: middle;\n",
       "    }\n",
       "\n",
       "    .dataframe tbody tr th {\n",
       "        vertical-align: top;\n",
       "    }\n",
       "\n",
       "    .dataframe thead th {\n",
       "        text-align: right;\n",
       "    }\n",
       "</style>\n",
       "<table border=\"1\" class=\"dataframe\">\n",
       "  <thead>\n",
       "    <tr style=\"text-align: right;\">\n",
       "      <th></th>\n",
       "      <th>order_id</th>\n",
       "      <th>product_id</th>\n",
       "      <th>add_to_cart_order</th>\n",
       "      <th>reordered</th>\n",
       "    </tr>\n",
       "  </thead>\n",
       "  <tbody>\n",
       "    <tr>\n",
       "      <th>1384612</th>\n",
       "      <td>3421063</td>\n",
       "      <td>14233</td>\n",
       "      <td>3</td>\n",
       "      <td>1</td>\n",
       "    </tr>\n",
       "    <tr>\n",
       "      <th>1384613</th>\n",
       "      <td>3421063</td>\n",
       "      <td>35548</td>\n",
       "      <td>4</td>\n",
       "      <td>1</td>\n",
       "    </tr>\n",
       "    <tr>\n",
       "      <th>1384614</th>\n",
       "      <td>3421070</td>\n",
       "      <td>35951</td>\n",
       "      <td>1</td>\n",
       "      <td>1</td>\n",
       "    </tr>\n",
       "    <tr>\n",
       "      <th>1384615</th>\n",
       "      <td>3421070</td>\n",
       "      <td>16953</td>\n",
       "      <td>2</td>\n",
       "      <td>1</td>\n",
       "    </tr>\n",
       "    <tr>\n",
       "      <th>1384616</th>\n",
       "      <td>3421070</td>\n",
       "      <td>4724</td>\n",
       "      <td>3</td>\n",
       "      <td>1</td>\n",
       "    </tr>\n",
       "  </tbody>\n",
       "</table>\n",
       "</div>"
      ],
      "text/plain": [
       "         order_id  product_id  add_to_cart_order  reordered\n",
       "1384612   3421063       14233                  3          1\n",
       "1384613   3421063       35548                  4          1\n",
       "1384614   3421070       35951                  1          1\n",
       "1384615   3421070       16953                  2          1\n",
       "1384616   3421070        4724                  3          1"
      ]
     },
     "execution_count": 56,
     "metadata": {},
     "output_type": "execute_result"
    }
   ],
   "source": [
    "order_products__train.tail()"
   ]
  },
  {
   "cell_type": "code",
   "execution_count": 57,
   "id": "33d40971-07fd-4ef5-b3c1-129fbaf3576b",
   "metadata": {},
   "outputs": [
    {
     "name": "stdout",
     "output_type": "stream",
     "text": [
      "<class 'pandas.core.frame.DataFrame'>\n",
      "RangeIndex: 1384617 entries, 0 to 1384616\n",
      "Data columns (total 4 columns):\n",
      " #   Column             Non-Null Count    Dtype\n",
      "---  ------             --------------    -----\n",
      " 0   order_id           1384617 non-null  int64\n",
      " 1   product_id         1384617 non-null  int64\n",
      " 2   add_to_cart_order  1384617 non-null  int64\n",
      " 3   reordered          1384617 non-null  int64\n",
      "dtypes: int64(4)\n",
      "memory usage: 42.3 MB\n"
     ]
    }
   ],
   "source": [
    "order_products__train.info()"
   ]
  },
  {
   "cell_type": "code",
   "execution_count": 58,
   "id": "ba350ac6-7425-44d8-ba2c-e735f35c718b",
   "metadata": {},
   "outputs": [
    {
     "data": {
      "text/html": [
       "<div>\n",
       "<style scoped>\n",
       "    .dataframe tbody tr th:only-of-type {\n",
       "        vertical-align: middle;\n",
       "    }\n",
       "\n",
       "    .dataframe tbody tr th {\n",
       "        vertical-align: top;\n",
       "    }\n",
       "\n",
       "    .dataframe thead th {\n",
       "        text-align: right;\n",
       "    }\n",
       "</style>\n",
       "<table border=\"1\" class=\"dataframe\">\n",
       "  <thead>\n",
       "    <tr style=\"text-align: right;\">\n",
       "      <th></th>\n",
       "      <th>order_id</th>\n",
       "      <th>product_id</th>\n",
       "      <th>add_to_cart_order</th>\n",
       "      <th>reordered</th>\n",
       "    </tr>\n",
       "  </thead>\n",
       "  <tbody>\n",
       "    <tr>\n",
       "      <th>count</th>\n",
       "      <td>1.384617e+06</td>\n",
       "      <td>1.384617e+06</td>\n",
       "      <td>1.384617e+06</td>\n",
       "      <td>1.384617e+06</td>\n",
       "    </tr>\n",
       "    <tr>\n",
       "      <th>mean</th>\n",
       "      <td>1.706298e+06</td>\n",
       "      <td>2.555624e+04</td>\n",
       "      <td>8.758044e+00</td>\n",
       "      <td>5.985944e-01</td>\n",
       "    </tr>\n",
       "    <tr>\n",
       "      <th>std</th>\n",
       "      <td>9.897326e+05</td>\n",
       "      <td>1.412127e+04</td>\n",
       "      <td>7.423936e+00</td>\n",
       "      <td>4.901829e-01</td>\n",
       "    </tr>\n",
       "    <tr>\n",
       "      <th>min</th>\n",
       "      <td>1.000000e+00</td>\n",
       "      <td>1.000000e+00</td>\n",
       "      <td>1.000000e+00</td>\n",
       "      <td>0.000000e+00</td>\n",
       "    </tr>\n",
       "    <tr>\n",
       "      <th>25%</th>\n",
       "      <td>8.433700e+05</td>\n",
       "      <td>1.338000e+04</td>\n",
       "      <td>3.000000e+00</td>\n",
       "      <td>0.000000e+00</td>\n",
       "    </tr>\n",
       "    <tr>\n",
       "      <th>50%</th>\n",
       "      <td>1.701880e+06</td>\n",
       "      <td>2.529800e+04</td>\n",
       "      <td>7.000000e+00</td>\n",
       "      <td>1.000000e+00</td>\n",
       "    </tr>\n",
       "    <tr>\n",
       "      <th>75%</th>\n",
       "      <td>2.568023e+06</td>\n",
       "      <td>3.794000e+04</td>\n",
       "      <td>1.200000e+01</td>\n",
       "      <td>1.000000e+00</td>\n",
       "    </tr>\n",
       "    <tr>\n",
       "      <th>max</th>\n",
       "      <td>3.421070e+06</td>\n",
       "      <td>4.968800e+04</td>\n",
       "      <td>8.000000e+01</td>\n",
       "      <td>1.000000e+00</td>\n",
       "    </tr>\n",
       "  </tbody>\n",
       "</table>\n",
       "</div>"
      ],
      "text/plain": [
       "           order_id    product_id  add_to_cart_order     reordered\n",
       "count  1.384617e+06  1.384617e+06       1.384617e+06  1.384617e+06\n",
       "mean   1.706298e+06  2.555624e+04       8.758044e+00  5.985944e-01\n",
       "std    9.897326e+05  1.412127e+04       7.423936e+00  4.901829e-01\n",
       "min    1.000000e+00  1.000000e+00       1.000000e+00  0.000000e+00\n",
       "25%    8.433700e+05  1.338000e+04       3.000000e+00  0.000000e+00\n",
       "50%    1.701880e+06  2.529800e+04       7.000000e+00  1.000000e+00\n",
       "75%    2.568023e+06  3.794000e+04       1.200000e+01  1.000000e+00\n",
       "max    3.421070e+06  4.968800e+04       8.000000e+01  1.000000e+00"
      ]
     },
     "execution_count": 58,
     "metadata": {},
     "output_type": "execute_result"
    }
   ],
   "source": [
    "order_products__train.describe(include = \"all\")"
   ]
  },
  {
   "cell_type": "code",
   "execution_count": 59,
   "id": "ec542765-0a9b-4ba4-ae5c-49251bd22bb5",
   "metadata": {},
   "outputs": [
    {
     "data": {
      "text/plain": [
       "(1384617, 4)"
      ]
     },
     "execution_count": 59,
     "metadata": {},
     "output_type": "execute_result"
    }
   ],
   "source": [
    "order_products__train.shape"
   ]
  },
  {
   "cell_type": "code",
   "execution_count": 60,
   "id": "94afde64-351d-4b20-8c72-7f83d6a22d4b",
   "metadata": {},
   "outputs": [
    {
     "data": {
      "text/plain": [
       "Index(['order_id', 'product_id', 'add_to_cart_order', 'reordered'], dtype='object')"
      ]
     },
     "execution_count": 60,
     "metadata": {},
     "output_type": "execute_result"
    }
   ],
   "source": [
    "order_products__train.columns"
   ]
  },
  {
   "cell_type": "code",
   "execution_count": 61,
   "id": "ac5b0bf7-a304-4028-bce6-06db5f93bcfa",
   "metadata": {},
   "outputs": [
    {
     "data": {
      "text/plain": [
       "order_id             int64\n",
       "product_id           int64\n",
       "add_to_cart_order    int64\n",
       "reordered            int64\n",
       "dtype: object"
      ]
     },
     "execution_count": 61,
     "metadata": {},
     "output_type": "execute_result"
    }
   ],
   "source": [
    "order_products__train.dtypes"
   ]
  },
  {
   "cell_type": "code",
   "execution_count": 62,
   "id": "d211e3c2-5961-4cd8-8d0d-5552c378d140",
   "metadata": {},
   "outputs": [
    {
     "data": {
      "text/plain": [
       "add_to_cart_order\n",
       "1     131209\n",
       "2     124364\n",
       "3     116996\n",
       "4     108963\n",
       "5     100745\n",
       "6      91850\n",
       "7      83142\n",
       "8      74601\n",
       "9      66618\n",
       "10     59401\n",
       "11     52848\n",
       "12     46814\n",
       "13     41431\n",
       "14     36588\n",
       "15     32194\n",
       "16     28363\n",
       "17     24841\n",
       "18     21733\n",
       "19     19014\n",
       "20     16541\n",
       "21     14439\n",
       "22     12582\n",
       "23     10901\n",
       "24      9439\n",
       "25      8147\n",
       "26      7068\n",
       "27      6082\n",
       "28      5222\n",
       "29      4543\n",
       "30      3909\n",
       "31      3356\n",
       "32      2910\n",
       "33      2507\n",
       "34      2161\n",
       "35      1846\n",
       "36      1566\n",
       "37      1356\n",
       "38      1163\n",
       "39       985\n",
       "40       843\n",
       "41       744\n",
       "42       654\n",
       "43       566\n",
       "44       491\n",
       "45       412\n",
       "46       348\n",
       "47       300\n",
       "48       251\n",
       "49       219\n",
       "50       193\n",
       "51       162\n",
       "52       138\n",
       "53       115\n",
       "54        97\n",
       "55        82\n",
       "56        70\n",
       "57        60\n",
       "58        54\n",
       "59        49\n",
       "60        45\n",
       "61        37\n",
       "62        34\n",
       "63        31\n",
       "64        26\n",
       "65        22\n",
       "66        19\n",
       "67        17\n",
       "68        16\n",
       "69        14\n",
       "70        14\n",
       "71        10\n",
       "72        10\n",
       "74         8\n",
       "73         8\n",
       "75         6\n",
       "76         5\n",
       "77         3\n",
       "79         2\n",
       "80         2\n",
       "78         2\n",
       "Name: count, dtype: int64"
      ]
     },
     "execution_count": 62,
     "metadata": {},
     "output_type": "execute_result"
    }
   ],
   "source": [
    "order_products__train[\"add_to_cart_order\"].value_counts()"
   ]
  },
  {
   "cell_type": "code",
   "execution_count": 63,
   "id": "11e09e06-c026-4f94-b00b-52d253db8d55",
   "metadata": {},
   "outputs": [
    {
     "data": {
      "text/plain": [
       "array([1, 0])"
      ]
     },
     "execution_count": 63,
     "metadata": {},
     "output_type": "execute_result"
    }
   ],
   "source": [
    "order_products__train[\"reordered\"].unique()"
   ]
  },
  {
   "cell_type": "code",
   "execution_count": 64,
   "id": "33139935-6a01-49a6-bcf3-5dc1fe4d8a4e",
   "metadata": {},
   "outputs": [
    {
     "data": {
      "text/plain": [
       "order_id             131209\n",
       "product_id            39123\n",
       "add_to_cart_order        80\n",
       "reordered                 2\n",
       "dtype: int64"
      ]
     },
     "execution_count": 64,
     "metadata": {},
     "output_type": "execute_result"
    }
   ],
   "source": [
    "order_products__train.nunique()"
   ]
  },
  {
   "cell_type": "code",
   "execution_count": 65,
   "id": "798bc6a8-6d7a-469b-9513-2a6f69102787",
   "metadata": {},
   "outputs": [
    {
     "data": {
      "text/plain": [
       "order_id             0\n",
       "product_id           0\n",
       "add_to_cart_order    0\n",
       "reordered            0\n",
       "dtype: int64"
      ]
     },
     "execution_count": 65,
     "metadata": {},
     "output_type": "execute_result"
    }
   ],
   "source": [
    "order_products__train.isnull().sum()"
   ]
  },
  {
   "cell_type": "markdown",
   "id": "0389936b-c41f-4d89-8f3a-758ce7750d92",
   "metadata": {
    "jp-MarkdownHeadingCollapsed": true
   },
   "source": [
    "##### Load and Overview of orders.csv"
   ]
  },
  {
   "cell_type": "code",
   "execution_count": 67,
   "id": "b27d75f5-e8f4-469d-bcfa-b9a5d2e25a20",
   "metadata": {},
   "outputs": [],
   "source": [
    "orders = pd.read_csv(\"/Users/vythreynarayanam/Downloads/DA Consultancy/Instacart_Market_Basket_EDA_Python/orders.csv\")"
   ]
  },
  {
   "cell_type": "code",
   "execution_count": 68,
   "id": "db0260c8-8044-4508-90e0-bababdf9fdf9",
   "metadata": {},
   "outputs": [
    {
     "data": {
      "text/html": [
       "<div>\n",
       "<style scoped>\n",
       "    .dataframe tbody tr th:only-of-type {\n",
       "        vertical-align: middle;\n",
       "    }\n",
       "\n",
       "    .dataframe tbody tr th {\n",
       "        vertical-align: top;\n",
       "    }\n",
       "\n",
       "    .dataframe thead th {\n",
       "        text-align: right;\n",
       "    }\n",
       "</style>\n",
       "<table border=\"1\" class=\"dataframe\">\n",
       "  <thead>\n",
       "    <tr style=\"text-align: right;\">\n",
       "      <th></th>\n",
       "      <th>order_id</th>\n",
       "      <th>user_id</th>\n",
       "      <th>eval_set</th>\n",
       "      <th>order_number</th>\n",
       "      <th>order_dow</th>\n",
       "      <th>order_hour_of_day</th>\n",
       "      <th>days_since_prior_order</th>\n",
       "    </tr>\n",
       "  </thead>\n",
       "  <tbody>\n",
       "    <tr>\n",
       "      <th>0</th>\n",
       "      <td>2539329</td>\n",
       "      <td>1</td>\n",
       "      <td>prior</td>\n",
       "      <td>1</td>\n",
       "      <td>2</td>\n",
       "      <td>8</td>\n",
       "      <td>NaN</td>\n",
       "    </tr>\n",
       "    <tr>\n",
       "      <th>1</th>\n",
       "      <td>2398795</td>\n",
       "      <td>1</td>\n",
       "      <td>prior</td>\n",
       "      <td>2</td>\n",
       "      <td>3</td>\n",
       "      <td>7</td>\n",
       "      <td>15.0</td>\n",
       "    </tr>\n",
       "    <tr>\n",
       "      <th>2</th>\n",
       "      <td>473747</td>\n",
       "      <td>1</td>\n",
       "      <td>prior</td>\n",
       "      <td>3</td>\n",
       "      <td>3</td>\n",
       "      <td>12</td>\n",
       "      <td>21.0</td>\n",
       "    </tr>\n",
       "    <tr>\n",
       "      <th>3</th>\n",
       "      <td>2254736</td>\n",
       "      <td>1</td>\n",
       "      <td>prior</td>\n",
       "      <td>4</td>\n",
       "      <td>4</td>\n",
       "      <td>7</td>\n",
       "      <td>29.0</td>\n",
       "    </tr>\n",
       "    <tr>\n",
       "      <th>4</th>\n",
       "      <td>431534</td>\n",
       "      <td>1</td>\n",
       "      <td>prior</td>\n",
       "      <td>5</td>\n",
       "      <td>4</td>\n",
       "      <td>15</td>\n",
       "      <td>28.0</td>\n",
       "    </tr>\n",
       "    <tr>\n",
       "      <th>5</th>\n",
       "      <td>3367565</td>\n",
       "      <td>1</td>\n",
       "      <td>prior</td>\n",
       "      <td>6</td>\n",
       "      <td>2</td>\n",
       "      <td>7</td>\n",
       "      <td>19.0</td>\n",
       "    </tr>\n",
       "    <tr>\n",
       "      <th>6</th>\n",
       "      <td>550135</td>\n",
       "      <td>1</td>\n",
       "      <td>prior</td>\n",
       "      <td>7</td>\n",
       "      <td>1</td>\n",
       "      <td>9</td>\n",
       "      <td>20.0</td>\n",
       "    </tr>\n",
       "    <tr>\n",
       "      <th>7</th>\n",
       "      <td>3108588</td>\n",
       "      <td>1</td>\n",
       "      <td>prior</td>\n",
       "      <td>8</td>\n",
       "      <td>1</td>\n",
       "      <td>14</td>\n",
       "      <td>14.0</td>\n",
       "    </tr>\n",
       "    <tr>\n",
       "      <th>8</th>\n",
       "      <td>2295261</td>\n",
       "      <td>1</td>\n",
       "      <td>prior</td>\n",
       "      <td>9</td>\n",
       "      <td>1</td>\n",
       "      <td>16</td>\n",
       "      <td>0.0</td>\n",
       "    </tr>\n",
       "    <tr>\n",
       "      <th>9</th>\n",
       "      <td>2550362</td>\n",
       "      <td>1</td>\n",
       "      <td>prior</td>\n",
       "      <td>10</td>\n",
       "      <td>4</td>\n",
       "      <td>8</td>\n",
       "      <td>30.0</td>\n",
       "    </tr>\n",
       "  </tbody>\n",
       "</table>\n",
       "</div>"
      ],
      "text/plain": [
       "   order_id  user_id eval_set  order_number  order_dow  order_hour_of_day  \\\n",
       "0   2539329        1    prior             1          2                  8   \n",
       "1   2398795        1    prior             2          3                  7   \n",
       "2    473747        1    prior             3          3                 12   \n",
       "3   2254736        1    prior             4          4                  7   \n",
       "4    431534        1    prior             5          4                 15   \n",
       "5   3367565        1    prior             6          2                  7   \n",
       "6    550135        1    prior             7          1                  9   \n",
       "7   3108588        1    prior             8          1                 14   \n",
       "8   2295261        1    prior             9          1                 16   \n",
       "9   2550362        1    prior            10          4                  8   \n",
       "\n",
       "   days_since_prior_order  \n",
       "0                     NaN  \n",
       "1                    15.0  \n",
       "2                    21.0  \n",
       "3                    29.0  \n",
       "4                    28.0  \n",
       "5                    19.0  \n",
       "6                    20.0  \n",
       "7                    14.0  \n",
       "8                     0.0  \n",
       "9                    30.0  "
      ]
     },
     "execution_count": 68,
     "metadata": {},
     "output_type": "execute_result"
    }
   ],
   "source": [
    "orders.head(10)"
   ]
  },
  {
   "cell_type": "code",
   "execution_count": 69,
   "id": "4837212b-5bd6-4cfc-ab88-8cba2515746b",
   "metadata": {},
   "outputs": [
    {
     "data": {
      "text/html": [
       "<div>\n",
       "<style scoped>\n",
       "    .dataframe tbody tr th:only-of-type {\n",
       "        vertical-align: middle;\n",
       "    }\n",
       "\n",
       "    .dataframe tbody tr th {\n",
       "        vertical-align: top;\n",
       "    }\n",
       "\n",
       "    .dataframe thead th {\n",
       "        text-align: right;\n",
       "    }\n",
       "</style>\n",
       "<table border=\"1\" class=\"dataframe\">\n",
       "  <thead>\n",
       "    <tr style=\"text-align: right;\">\n",
       "      <th></th>\n",
       "      <th>order_id</th>\n",
       "      <th>user_id</th>\n",
       "      <th>eval_set</th>\n",
       "      <th>order_number</th>\n",
       "      <th>order_dow</th>\n",
       "      <th>order_hour_of_day</th>\n",
       "      <th>days_since_prior_order</th>\n",
       "    </tr>\n",
       "  </thead>\n",
       "  <tbody>\n",
       "    <tr>\n",
       "      <th>3421073</th>\n",
       "      <td>2307371</td>\n",
       "      <td>206209</td>\n",
       "      <td>prior</td>\n",
       "      <td>5</td>\n",
       "      <td>4</td>\n",
       "      <td>15</td>\n",
       "      <td>3.0</td>\n",
       "    </tr>\n",
       "    <tr>\n",
       "      <th>3421074</th>\n",
       "      <td>3186442</td>\n",
       "      <td>206209</td>\n",
       "      <td>prior</td>\n",
       "      <td>6</td>\n",
       "      <td>0</td>\n",
       "      <td>16</td>\n",
       "      <td>3.0</td>\n",
       "    </tr>\n",
       "    <tr>\n",
       "      <th>3421075</th>\n",
       "      <td>550836</td>\n",
       "      <td>206209</td>\n",
       "      <td>prior</td>\n",
       "      <td>7</td>\n",
       "      <td>2</td>\n",
       "      <td>13</td>\n",
       "      <td>9.0</td>\n",
       "    </tr>\n",
       "    <tr>\n",
       "      <th>3421076</th>\n",
       "      <td>2129269</td>\n",
       "      <td>206209</td>\n",
       "      <td>prior</td>\n",
       "      <td>8</td>\n",
       "      <td>3</td>\n",
       "      <td>17</td>\n",
       "      <td>22.0</td>\n",
       "    </tr>\n",
       "    <tr>\n",
       "      <th>3421077</th>\n",
       "      <td>2558525</td>\n",
       "      <td>206209</td>\n",
       "      <td>prior</td>\n",
       "      <td>9</td>\n",
       "      <td>4</td>\n",
       "      <td>15</td>\n",
       "      <td>22.0</td>\n",
       "    </tr>\n",
       "    <tr>\n",
       "      <th>3421078</th>\n",
       "      <td>2266710</td>\n",
       "      <td>206209</td>\n",
       "      <td>prior</td>\n",
       "      <td>10</td>\n",
       "      <td>5</td>\n",
       "      <td>18</td>\n",
       "      <td>29.0</td>\n",
       "    </tr>\n",
       "    <tr>\n",
       "      <th>3421079</th>\n",
       "      <td>1854736</td>\n",
       "      <td>206209</td>\n",
       "      <td>prior</td>\n",
       "      <td>11</td>\n",
       "      <td>4</td>\n",
       "      <td>10</td>\n",
       "      <td>30.0</td>\n",
       "    </tr>\n",
       "    <tr>\n",
       "      <th>3421080</th>\n",
       "      <td>626363</td>\n",
       "      <td>206209</td>\n",
       "      <td>prior</td>\n",
       "      <td>12</td>\n",
       "      <td>1</td>\n",
       "      <td>12</td>\n",
       "      <td>18.0</td>\n",
       "    </tr>\n",
       "    <tr>\n",
       "      <th>3421081</th>\n",
       "      <td>2977660</td>\n",
       "      <td>206209</td>\n",
       "      <td>prior</td>\n",
       "      <td>13</td>\n",
       "      <td>1</td>\n",
       "      <td>12</td>\n",
       "      <td>7.0</td>\n",
       "    </tr>\n",
       "    <tr>\n",
       "      <th>3421082</th>\n",
       "      <td>272231</td>\n",
       "      <td>206209</td>\n",
       "      <td>train</td>\n",
       "      <td>14</td>\n",
       "      <td>6</td>\n",
       "      <td>14</td>\n",
       "      <td>30.0</td>\n",
       "    </tr>\n",
       "  </tbody>\n",
       "</table>\n",
       "</div>"
      ],
      "text/plain": [
       "         order_id  user_id eval_set  order_number  order_dow  \\\n",
       "3421073   2307371   206209    prior             5          4   \n",
       "3421074   3186442   206209    prior             6          0   \n",
       "3421075    550836   206209    prior             7          2   \n",
       "3421076   2129269   206209    prior             8          3   \n",
       "3421077   2558525   206209    prior             9          4   \n",
       "3421078   2266710   206209    prior            10          5   \n",
       "3421079   1854736   206209    prior            11          4   \n",
       "3421080    626363   206209    prior            12          1   \n",
       "3421081   2977660   206209    prior            13          1   \n",
       "3421082    272231   206209    train            14          6   \n",
       "\n",
       "         order_hour_of_day  days_since_prior_order  \n",
       "3421073                 15                     3.0  \n",
       "3421074                 16                     3.0  \n",
       "3421075                 13                     9.0  \n",
       "3421076                 17                    22.0  \n",
       "3421077                 15                    22.0  \n",
       "3421078                 18                    29.0  \n",
       "3421079                 10                    30.0  \n",
       "3421080                 12                    18.0  \n",
       "3421081                 12                     7.0  \n",
       "3421082                 14                    30.0  "
      ]
     },
     "execution_count": 69,
     "metadata": {},
     "output_type": "execute_result"
    }
   ],
   "source": [
    "orders.tail(10)"
   ]
  },
  {
   "cell_type": "code",
   "execution_count": 70,
   "id": "e4f5f0c1-293d-41c4-968a-ef5c793b7e8d",
   "metadata": {},
   "outputs": [
    {
     "name": "stdout",
     "output_type": "stream",
     "text": [
      "<class 'pandas.core.frame.DataFrame'>\n",
      "RangeIndex: 3421083 entries, 0 to 3421082\n",
      "Data columns (total 7 columns):\n",
      " #   Column                  Dtype  \n",
      "---  ------                  -----  \n",
      " 0   order_id                int64  \n",
      " 1   user_id                 int64  \n",
      " 2   eval_set                object \n",
      " 3   order_number            int64  \n",
      " 4   order_dow               int64  \n",
      " 5   order_hour_of_day       int64  \n",
      " 6   days_since_prior_order  float64\n",
      "dtypes: float64(1), int64(5), object(1)\n",
      "memory usage: 182.7+ MB\n"
     ]
    }
   ],
   "source": [
    "orders.info()"
   ]
  },
  {
   "cell_type": "code",
   "execution_count": 71,
   "id": "a650f218-07d6-4169-afcc-646cb5593810",
   "metadata": {},
   "outputs": [
    {
     "data": {
      "text/html": [
       "<div>\n",
       "<style scoped>\n",
       "    .dataframe tbody tr th:only-of-type {\n",
       "        vertical-align: middle;\n",
       "    }\n",
       "\n",
       "    .dataframe tbody tr th {\n",
       "        vertical-align: top;\n",
       "    }\n",
       "\n",
       "    .dataframe thead th {\n",
       "        text-align: right;\n",
       "    }\n",
       "</style>\n",
       "<table border=\"1\" class=\"dataframe\">\n",
       "  <thead>\n",
       "    <tr style=\"text-align: right;\">\n",
       "      <th></th>\n",
       "      <th>order_id</th>\n",
       "      <th>user_id</th>\n",
       "      <th>eval_set</th>\n",
       "      <th>order_number</th>\n",
       "      <th>order_dow</th>\n",
       "      <th>order_hour_of_day</th>\n",
       "      <th>days_since_prior_order</th>\n",
       "    </tr>\n",
       "  </thead>\n",
       "  <tbody>\n",
       "    <tr>\n",
       "      <th>count</th>\n",
       "      <td>3.421083e+06</td>\n",
       "      <td>3.421083e+06</td>\n",
       "      <td>3421083</td>\n",
       "      <td>3.421083e+06</td>\n",
       "      <td>3.421083e+06</td>\n",
       "      <td>3.421083e+06</td>\n",
       "      <td>3.214874e+06</td>\n",
       "    </tr>\n",
       "    <tr>\n",
       "      <th>unique</th>\n",
       "      <td>NaN</td>\n",
       "      <td>NaN</td>\n",
       "      <td>3</td>\n",
       "      <td>NaN</td>\n",
       "      <td>NaN</td>\n",
       "      <td>NaN</td>\n",
       "      <td>NaN</td>\n",
       "    </tr>\n",
       "    <tr>\n",
       "      <th>top</th>\n",
       "      <td>NaN</td>\n",
       "      <td>NaN</td>\n",
       "      <td>prior</td>\n",
       "      <td>NaN</td>\n",
       "      <td>NaN</td>\n",
       "      <td>NaN</td>\n",
       "      <td>NaN</td>\n",
       "    </tr>\n",
       "    <tr>\n",
       "      <th>freq</th>\n",
       "      <td>NaN</td>\n",
       "      <td>NaN</td>\n",
       "      <td>3214874</td>\n",
       "      <td>NaN</td>\n",
       "      <td>NaN</td>\n",
       "      <td>NaN</td>\n",
       "      <td>NaN</td>\n",
       "    </tr>\n",
       "    <tr>\n",
       "      <th>mean</th>\n",
       "      <td>1.710542e+06</td>\n",
       "      <td>1.029782e+05</td>\n",
       "      <td>NaN</td>\n",
       "      <td>1.715486e+01</td>\n",
       "      <td>2.776219e+00</td>\n",
       "      <td>1.345202e+01</td>\n",
       "      <td>1.111484e+01</td>\n",
       "    </tr>\n",
       "    <tr>\n",
       "      <th>std</th>\n",
       "      <td>9.875817e+05</td>\n",
       "      <td>5.953372e+04</td>\n",
       "      <td>NaN</td>\n",
       "      <td>1.773316e+01</td>\n",
       "      <td>2.046829e+00</td>\n",
       "      <td>4.226088e+00</td>\n",
       "      <td>9.206737e+00</td>\n",
       "    </tr>\n",
       "    <tr>\n",
       "      <th>min</th>\n",
       "      <td>1.000000e+00</td>\n",
       "      <td>1.000000e+00</td>\n",
       "      <td>NaN</td>\n",
       "      <td>1.000000e+00</td>\n",
       "      <td>0.000000e+00</td>\n",
       "      <td>0.000000e+00</td>\n",
       "      <td>0.000000e+00</td>\n",
       "    </tr>\n",
       "    <tr>\n",
       "      <th>25%</th>\n",
       "      <td>8.552715e+05</td>\n",
       "      <td>5.139400e+04</td>\n",
       "      <td>NaN</td>\n",
       "      <td>5.000000e+00</td>\n",
       "      <td>1.000000e+00</td>\n",
       "      <td>1.000000e+01</td>\n",
       "      <td>4.000000e+00</td>\n",
       "    </tr>\n",
       "    <tr>\n",
       "      <th>50%</th>\n",
       "      <td>1.710542e+06</td>\n",
       "      <td>1.026890e+05</td>\n",
       "      <td>NaN</td>\n",
       "      <td>1.100000e+01</td>\n",
       "      <td>3.000000e+00</td>\n",
       "      <td>1.300000e+01</td>\n",
       "      <td>7.000000e+00</td>\n",
       "    </tr>\n",
       "    <tr>\n",
       "      <th>75%</th>\n",
       "      <td>2.565812e+06</td>\n",
       "      <td>1.543850e+05</td>\n",
       "      <td>NaN</td>\n",
       "      <td>2.300000e+01</td>\n",
       "      <td>5.000000e+00</td>\n",
       "      <td>1.600000e+01</td>\n",
       "      <td>1.500000e+01</td>\n",
       "    </tr>\n",
       "    <tr>\n",
       "      <th>max</th>\n",
       "      <td>3.421083e+06</td>\n",
       "      <td>2.062090e+05</td>\n",
       "      <td>NaN</td>\n",
       "      <td>1.000000e+02</td>\n",
       "      <td>6.000000e+00</td>\n",
       "      <td>2.300000e+01</td>\n",
       "      <td>3.000000e+01</td>\n",
       "    </tr>\n",
       "  </tbody>\n",
       "</table>\n",
       "</div>"
      ],
      "text/plain": [
       "            order_id       user_id eval_set  order_number     order_dow  \\\n",
       "count   3.421083e+06  3.421083e+06  3421083  3.421083e+06  3.421083e+06   \n",
       "unique           NaN           NaN        3           NaN           NaN   \n",
       "top              NaN           NaN    prior           NaN           NaN   \n",
       "freq             NaN           NaN  3214874           NaN           NaN   \n",
       "mean    1.710542e+06  1.029782e+05      NaN  1.715486e+01  2.776219e+00   \n",
       "std     9.875817e+05  5.953372e+04      NaN  1.773316e+01  2.046829e+00   \n",
       "min     1.000000e+00  1.000000e+00      NaN  1.000000e+00  0.000000e+00   \n",
       "25%     8.552715e+05  5.139400e+04      NaN  5.000000e+00  1.000000e+00   \n",
       "50%     1.710542e+06  1.026890e+05      NaN  1.100000e+01  3.000000e+00   \n",
       "75%     2.565812e+06  1.543850e+05      NaN  2.300000e+01  5.000000e+00   \n",
       "max     3.421083e+06  2.062090e+05      NaN  1.000000e+02  6.000000e+00   \n",
       "\n",
       "        order_hour_of_day  days_since_prior_order  \n",
       "count        3.421083e+06            3.214874e+06  \n",
       "unique                NaN                     NaN  \n",
       "top                   NaN                     NaN  \n",
       "freq                  NaN                     NaN  \n",
       "mean         1.345202e+01            1.111484e+01  \n",
       "std          4.226088e+00            9.206737e+00  \n",
       "min          0.000000e+00            0.000000e+00  \n",
       "25%          1.000000e+01            4.000000e+00  \n",
       "50%          1.300000e+01            7.000000e+00  \n",
       "75%          1.600000e+01            1.500000e+01  \n",
       "max          2.300000e+01            3.000000e+01  "
      ]
     },
     "execution_count": 71,
     "metadata": {},
     "output_type": "execute_result"
    }
   ],
   "source": [
    "orders.describe(include = \"all\")"
   ]
  },
  {
   "cell_type": "code",
   "execution_count": 72,
   "id": "a1f34aa8-1e61-4740-b3b9-db7ce5c06c10",
   "metadata": {},
   "outputs": [
    {
     "data": {
      "text/plain": [
       "(3421083, 7)"
      ]
     },
     "execution_count": 72,
     "metadata": {},
     "output_type": "execute_result"
    }
   ],
   "source": [
    "orders.shape"
   ]
  },
  {
   "cell_type": "code",
   "execution_count": 73,
   "id": "b1f2c2b8-0864-4cf9-9ef4-72b291ec70d9",
   "metadata": {},
   "outputs": [
    {
     "data": {
      "text/plain": [
       "Index(['order_id', 'user_id', 'eval_set', 'order_number', 'order_dow',\n",
       "       'order_hour_of_day', 'days_since_prior_order'],\n",
       "      dtype='object')"
      ]
     },
     "execution_count": 73,
     "metadata": {},
     "output_type": "execute_result"
    }
   ],
   "source": [
    "orders.columns"
   ]
  },
  {
   "cell_type": "code",
   "execution_count": 74,
   "id": "6b920744-bacd-4adc-9ef9-4f3c424964d3",
   "metadata": {},
   "outputs": [
    {
     "data": {
      "text/plain": [
       "order_id                    int64\n",
       "user_id                     int64\n",
       "eval_set                   object\n",
       "order_number                int64\n",
       "order_dow                   int64\n",
       "order_hour_of_day           int64\n",
       "days_since_prior_order    float64\n",
       "dtype: object"
      ]
     },
     "execution_count": 74,
     "metadata": {},
     "output_type": "execute_result"
    }
   ],
   "source": [
    "orders.dtypes"
   ]
  },
  {
   "cell_type": "code",
   "execution_count": 75,
   "id": "c68865e7-a362-44d7-bbc7-11e73179b474",
   "metadata": {},
   "outputs": [
    {
     "data": {
      "text/plain": [
       "eval_set\n",
       "prior    3214874\n",
       "train     131209\n",
       "test       75000\n",
       "Name: count, dtype: int64"
      ]
     },
     "execution_count": 75,
     "metadata": {},
     "output_type": "execute_result"
    }
   ],
   "source": [
    "orders[\"eval_set\"].value_counts()"
   ]
  },
  {
   "cell_type": "code",
   "execution_count": 76,
   "id": "cafe6766-8201-49ee-bd8f-4d28b238b126",
   "metadata": {},
   "outputs": [
    {
     "data": {
      "text/plain": [
       "array([nan, 15., 21., 29., 28., 19., 20., 14.,  0., 30., 10.,  3.,  8.,\n",
       "       13., 27.,  6.,  9., 12.,  7., 17., 11., 22.,  4.,  5.,  2., 23.,\n",
       "       26., 25., 16.,  1., 18., 24.])"
      ]
     },
     "execution_count": 76,
     "metadata": {},
     "output_type": "execute_result"
    }
   ],
   "source": [
    "orders['days_since_prior_order'].unique()"
   ]
  },
  {
   "cell_type": "code",
   "execution_count": 77,
   "id": "81ba8519-fe30-4bb6-ac7e-969299a0d3fb",
   "metadata": {},
   "outputs": [
    {
     "data": {
      "text/plain": [
       "days_since_prior_order\n",
       "30.0    369323\n",
       "7.0     320608\n",
       "6.0     240013\n",
       "4.0     221696\n",
       "3.0     217005\n",
       "5.0     214503\n",
       "2.0     193206\n",
       "8.0     181717\n",
       "1.0     145247\n",
       "9.0     118188\n",
       "14.0    100230\n",
       "10.0     95186\n",
       "13.0     83214\n",
       "11.0     80970\n",
       "12.0     76146\n",
       "0.0      67755\n",
       "15.0     66579\n",
       "16.0     46941\n",
       "21.0     45470\n",
       "17.0     39245\n",
       "20.0     38527\n",
       "18.0     35881\n",
       "19.0     34384\n",
       "22.0     32012\n",
       "28.0     26777\n",
       "23.0     23885\n",
       "27.0     22013\n",
       "24.0     20712\n",
       "25.0     19234\n",
       "29.0     19191\n",
       "26.0     19016\n",
       "Name: count, dtype: int64"
      ]
     },
     "execution_count": 77,
     "metadata": {},
     "output_type": "execute_result"
    }
   ],
   "source": [
    "orders[\"days_since_prior_order\"].value_counts()"
   ]
  },
  {
   "cell_type": "code",
   "execution_count": 78,
   "id": "578634ad-d735-4a79-809c-a65d0f919d24",
   "metadata": {},
   "outputs": [
    {
     "data": {
      "text/plain": [
       "order_id                  3421083\n",
       "user_id                    206209\n",
       "eval_set                        3\n",
       "order_number                  100\n",
       "order_dow                       7\n",
       "order_hour_of_day              24\n",
       "days_since_prior_order         31\n",
       "dtype: int64"
      ]
     },
     "execution_count": 78,
     "metadata": {},
     "output_type": "execute_result"
    }
   ],
   "source": [
    "orders.nunique()"
   ]
  },
  {
   "cell_type": "code",
   "execution_count": 79,
   "id": "877bf779-fed0-474d-845e-2440ba381470",
   "metadata": {},
   "outputs": [
    {
     "data": {
      "text/plain": [
       "order_id                       0\n",
       "user_id                        0\n",
       "eval_set                       0\n",
       "order_number                   0\n",
       "order_dow                      0\n",
       "order_hour_of_day              0\n",
       "days_since_prior_order    206209\n",
       "dtype: int64"
      ]
     },
     "execution_count": 79,
     "metadata": {},
     "output_type": "execute_result"
    }
   ],
   "source": [
    "orders.isnull().sum()"
   ]
  },
  {
   "cell_type": "markdown",
   "id": "b9df50a8-48f7-4f77-a03a-f138a3d44158",
   "metadata": {
    "jp-MarkdownHeadingCollapsed": true
   },
   "source": [
    "##### Load and Overview of products.csv"
   ]
  },
  {
   "cell_type": "code",
   "execution_count": 81,
   "id": "aafa988a-2b79-4e4f-8944-061260d53639",
   "metadata": {},
   "outputs": [],
   "source": [
    "products = pd.read_csv(\"/Users/vythreynarayanam/Downloads/DA Consultancy/Instacart_Market_Basket_EDA_Python/products.csv\")"
   ]
  },
  {
   "cell_type": "code",
   "execution_count": 82,
   "id": "be4b3e78-f3d0-4c6b-abe5-ae759cd7c979",
   "metadata": {},
   "outputs": [
    {
     "data": {
      "text/html": [
       "<div>\n",
       "<style scoped>\n",
       "    .dataframe tbody tr th:only-of-type {\n",
       "        vertical-align: middle;\n",
       "    }\n",
       "\n",
       "    .dataframe tbody tr th {\n",
       "        vertical-align: top;\n",
       "    }\n",
       "\n",
       "    .dataframe thead th {\n",
       "        text-align: right;\n",
       "    }\n",
       "</style>\n",
       "<table border=\"1\" class=\"dataframe\">\n",
       "  <thead>\n",
       "    <tr style=\"text-align: right;\">\n",
       "      <th></th>\n",
       "      <th>product_id</th>\n",
       "      <th>product_name</th>\n",
       "      <th>aisle_id</th>\n",
       "      <th>department_id</th>\n",
       "    </tr>\n",
       "  </thead>\n",
       "  <tbody>\n",
       "    <tr>\n",
       "      <th>0</th>\n",
       "      <td>1</td>\n",
       "      <td>Chocolate Sandwich Cookies</td>\n",
       "      <td>61</td>\n",
       "      <td>19</td>\n",
       "    </tr>\n",
       "    <tr>\n",
       "      <th>1</th>\n",
       "      <td>2</td>\n",
       "      <td>All-Seasons Salt</td>\n",
       "      <td>104</td>\n",
       "      <td>13</td>\n",
       "    </tr>\n",
       "    <tr>\n",
       "      <th>2</th>\n",
       "      <td>3</td>\n",
       "      <td>Robust Golden Unsweetened Oolong Tea</td>\n",
       "      <td>94</td>\n",
       "      <td>7</td>\n",
       "    </tr>\n",
       "    <tr>\n",
       "      <th>3</th>\n",
       "      <td>4</td>\n",
       "      <td>Smart Ones Classic Favorites Mini Rigatoni Wit...</td>\n",
       "      <td>38</td>\n",
       "      <td>1</td>\n",
       "    </tr>\n",
       "    <tr>\n",
       "      <th>4</th>\n",
       "      <td>5</td>\n",
       "      <td>Green Chile Anytime Sauce</td>\n",
       "      <td>5</td>\n",
       "      <td>13</td>\n",
       "    </tr>\n",
       "  </tbody>\n",
       "</table>\n",
       "</div>"
      ],
      "text/plain": [
       "   product_id                                       product_name  aisle_id  \\\n",
       "0           1                         Chocolate Sandwich Cookies        61   \n",
       "1           2                                   All-Seasons Salt       104   \n",
       "2           3               Robust Golden Unsweetened Oolong Tea        94   \n",
       "3           4  Smart Ones Classic Favorites Mini Rigatoni Wit...        38   \n",
       "4           5                          Green Chile Anytime Sauce         5   \n",
       "\n",
       "   department_id  \n",
       "0             19  \n",
       "1             13  \n",
       "2              7  \n",
       "3              1  \n",
       "4             13  "
      ]
     },
     "execution_count": 82,
     "metadata": {},
     "output_type": "execute_result"
    }
   ],
   "source": [
    "products.head()"
   ]
  },
  {
   "cell_type": "code",
   "execution_count": 83,
   "id": "52351bad-7f08-4118-ad16-83a2777575da",
   "metadata": {},
   "outputs": [
    {
     "data": {
      "text/html": [
       "<div>\n",
       "<style scoped>\n",
       "    .dataframe tbody tr th:only-of-type {\n",
       "        vertical-align: middle;\n",
       "    }\n",
       "\n",
       "    .dataframe tbody tr th {\n",
       "        vertical-align: top;\n",
       "    }\n",
       "\n",
       "    .dataframe thead th {\n",
       "        text-align: right;\n",
       "    }\n",
       "</style>\n",
       "<table border=\"1\" class=\"dataframe\">\n",
       "  <thead>\n",
       "    <tr style=\"text-align: right;\">\n",
       "      <th></th>\n",
       "      <th>product_id</th>\n",
       "      <th>product_name</th>\n",
       "      <th>aisle_id</th>\n",
       "      <th>department_id</th>\n",
       "    </tr>\n",
       "  </thead>\n",
       "  <tbody>\n",
       "    <tr>\n",
       "      <th>49683</th>\n",
       "      <td>49684</td>\n",
       "      <td>Vodka, Triple Distilled, Twist of Vanilla</td>\n",
       "      <td>124</td>\n",
       "      <td>5</td>\n",
       "    </tr>\n",
       "    <tr>\n",
       "      <th>49684</th>\n",
       "      <td>49685</td>\n",
       "      <td>En Croute Roast Hazelnut Cranberry</td>\n",
       "      <td>42</td>\n",
       "      <td>1</td>\n",
       "    </tr>\n",
       "    <tr>\n",
       "      <th>49685</th>\n",
       "      <td>49686</td>\n",
       "      <td>Artisan Baguette</td>\n",
       "      <td>112</td>\n",
       "      <td>3</td>\n",
       "    </tr>\n",
       "    <tr>\n",
       "      <th>49686</th>\n",
       "      <td>49687</td>\n",
       "      <td>Smartblend Healthy Metabolism Dry Cat Food</td>\n",
       "      <td>41</td>\n",
       "      <td>8</td>\n",
       "    </tr>\n",
       "    <tr>\n",
       "      <th>49687</th>\n",
       "      <td>49688</td>\n",
       "      <td>Fresh Foaming Cleanser</td>\n",
       "      <td>73</td>\n",
       "      <td>11</td>\n",
       "    </tr>\n",
       "  </tbody>\n",
       "</table>\n",
       "</div>"
      ],
      "text/plain": [
       "       product_id                                product_name  aisle_id  \\\n",
       "49683       49684   Vodka, Triple Distilled, Twist of Vanilla       124   \n",
       "49684       49685          En Croute Roast Hazelnut Cranberry        42   \n",
       "49685       49686                            Artisan Baguette       112   \n",
       "49686       49687  Smartblend Healthy Metabolism Dry Cat Food        41   \n",
       "49687       49688                      Fresh Foaming Cleanser        73   \n",
       "\n",
       "       department_id  \n",
       "49683              5  \n",
       "49684              1  \n",
       "49685              3  \n",
       "49686              8  \n",
       "49687             11  "
      ]
     },
     "execution_count": 83,
     "metadata": {},
     "output_type": "execute_result"
    }
   ],
   "source": [
    "products.tail()"
   ]
  },
  {
   "cell_type": "code",
   "execution_count": 84,
   "id": "13abbb3a-2652-498f-a4fa-dfe14b86299a",
   "metadata": {},
   "outputs": [
    {
     "name": "stdout",
     "output_type": "stream",
     "text": [
      "<class 'pandas.core.frame.DataFrame'>\n",
      "RangeIndex: 49688 entries, 0 to 49687\n",
      "Data columns (total 4 columns):\n",
      " #   Column         Non-Null Count  Dtype \n",
      "---  ------         --------------  ----- \n",
      " 0   product_id     49688 non-null  int64 \n",
      " 1   product_name   49688 non-null  object\n",
      " 2   aisle_id       49688 non-null  int64 \n",
      " 3   department_id  49688 non-null  int64 \n",
      "dtypes: int64(3), object(1)\n",
      "memory usage: 1.5+ MB\n"
     ]
    }
   ],
   "source": [
    "products.info()"
   ]
  },
  {
   "cell_type": "code",
   "execution_count": 85,
   "id": "e362a156-5f5a-4b7c-934d-8ffa7b551510",
   "metadata": {},
   "outputs": [
    {
     "data": {
      "text/html": [
       "<div>\n",
       "<style scoped>\n",
       "    .dataframe tbody tr th:only-of-type {\n",
       "        vertical-align: middle;\n",
       "    }\n",
       "\n",
       "    .dataframe tbody tr th {\n",
       "        vertical-align: top;\n",
       "    }\n",
       "\n",
       "    .dataframe thead th {\n",
       "        text-align: right;\n",
       "    }\n",
       "</style>\n",
       "<table border=\"1\" class=\"dataframe\">\n",
       "  <thead>\n",
       "    <tr style=\"text-align: right;\">\n",
       "      <th></th>\n",
       "      <th>product_id</th>\n",
       "      <th>product_name</th>\n",
       "      <th>aisle_id</th>\n",
       "      <th>department_id</th>\n",
       "    </tr>\n",
       "  </thead>\n",
       "  <tbody>\n",
       "    <tr>\n",
       "      <th>count</th>\n",
       "      <td>49688.000000</td>\n",
       "      <td>49688</td>\n",
       "      <td>49688.000000</td>\n",
       "      <td>49688.000000</td>\n",
       "    </tr>\n",
       "    <tr>\n",
       "      <th>unique</th>\n",
       "      <td>NaN</td>\n",
       "      <td>49688</td>\n",
       "      <td>NaN</td>\n",
       "      <td>NaN</td>\n",
       "    </tr>\n",
       "    <tr>\n",
       "      <th>top</th>\n",
       "      <td>NaN</td>\n",
       "      <td>Fresh Foaming Cleanser</td>\n",
       "      <td>NaN</td>\n",
       "      <td>NaN</td>\n",
       "    </tr>\n",
       "    <tr>\n",
       "      <th>freq</th>\n",
       "      <td>NaN</td>\n",
       "      <td>1</td>\n",
       "      <td>NaN</td>\n",
       "      <td>NaN</td>\n",
       "    </tr>\n",
       "    <tr>\n",
       "      <th>mean</th>\n",
       "      <td>24844.500000</td>\n",
       "      <td>NaN</td>\n",
       "      <td>67.769582</td>\n",
       "      <td>11.728687</td>\n",
       "    </tr>\n",
       "    <tr>\n",
       "      <th>std</th>\n",
       "      <td>14343.834425</td>\n",
       "      <td>NaN</td>\n",
       "      <td>38.316162</td>\n",
       "      <td>5.850410</td>\n",
       "    </tr>\n",
       "    <tr>\n",
       "      <th>min</th>\n",
       "      <td>1.000000</td>\n",
       "      <td>NaN</td>\n",
       "      <td>1.000000</td>\n",
       "      <td>1.000000</td>\n",
       "    </tr>\n",
       "    <tr>\n",
       "      <th>25%</th>\n",
       "      <td>12422.750000</td>\n",
       "      <td>NaN</td>\n",
       "      <td>35.000000</td>\n",
       "      <td>7.000000</td>\n",
       "    </tr>\n",
       "    <tr>\n",
       "      <th>50%</th>\n",
       "      <td>24844.500000</td>\n",
       "      <td>NaN</td>\n",
       "      <td>69.000000</td>\n",
       "      <td>13.000000</td>\n",
       "    </tr>\n",
       "    <tr>\n",
       "      <th>75%</th>\n",
       "      <td>37266.250000</td>\n",
       "      <td>NaN</td>\n",
       "      <td>100.000000</td>\n",
       "      <td>17.000000</td>\n",
       "    </tr>\n",
       "    <tr>\n",
       "      <th>max</th>\n",
       "      <td>49688.000000</td>\n",
       "      <td>NaN</td>\n",
       "      <td>134.000000</td>\n",
       "      <td>21.000000</td>\n",
       "    </tr>\n",
       "  </tbody>\n",
       "</table>\n",
       "</div>"
      ],
      "text/plain": [
       "          product_id            product_name      aisle_id  department_id\n",
       "count   49688.000000                   49688  49688.000000   49688.000000\n",
       "unique           NaN                   49688           NaN            NaN\n",
       "top              NaN  Fresh Foaming Cleanser           NaN            NaN\n",
       "freq             NaN                       1           NaN            NaN\n",
       "mean    24844.500000                     NaN     67.769582      11.728687\n",
       "std     14343.834425                     NaN     38.316162       5.850410\n",
       "min         1.000000                     NaN      1.000000       1.000000\n",
       "25%     12422.750000                     NaN     35.000000       7.000000\n",
       "50%     24844.500000                     NaN     69.000000      13.000000\n",
       "75%     37266.250000                     NaN    100.000000      17.000000\n",
       "max     49688.000000                     NaN    134.000000      21.000000"
      ]
     },
     "execution_count": 85,
     "metadata": {},
     "output_type": "execute_result"
    }
   ],
   "source": [
    "products.describe(include =\"all\")"
   ]
  },
  {
   "cell_type": "code",
   "execution_count": 86,
   "id": "536d3686-cc80-4518-9e42-ad4fe80c8e57",
   "metadata": {},
   "outputs": [
    {
     "data": {
      "text/plain": [
       "(49688, 4)"
      ]
     },
     "execution_count": 86,
     "metadata": {},
     "output_type": "execute_result"
    }
   ],
   "source": [
    "products.shape"
   ]
  },
  {
   "cell_type": "code",
   "execution_count": 87,
   "id": "77098e4a-575c-4b40-ab07-6b14323cdad4",
   "metadata": {},
   "outputs": [
    {
     "data": {
      "text/plain": [
       "Index(['product_id', 'product_name', 'aisle_id', 'department_id'], dtype='object')"
      ]
     },
     "execution_count": 87,
     "metadata": {},
     "output_type": "execute_result"
    }
   ],
   "source": [
    "products.columns"
   ]
  },
  {
   "cell_type": "code",
   "execution_count": 88,
   "id": "35f4b504-b936-4255-8719-1c0aae288d28",
   "metadata": {},
   "outputs": [
    {
     "data": {
      "text/plain": [
       "product_id        int64\n",
       "product_name     object\n",
       "aisle_id          int64\n",
       "department_id     int64\n",
       "dtype: object"
      ]
     },
     "execution_count": 88,
     "metadata": {},
     "output_type": "execute_result"
    }
   ],
   "source": [
    "products.dtypes"
   ]
  },
  {
   "cell_type": "code",
   "execution_count": 89,
   "id": "edcaf53d-045a-4320-9374-fdc62c3316fd",
   "metadata": {},
   "outputs": [
    {
     "data": {
      "text/plain": [
       "aisle_id\n",
       "100    1258\n",
       "45     1246\n",
       "37     1091\n",
       "47     1038\n",
       "120    1026\n",
       "107     989\n",
       "94      894\n",
       "21      891\n",
       "38      880\n",
       "61      874\n",
       "3       832\n",
       "22      816\n",
       "104     797\n",
       "98      792\n",
       "78      747\n",
       "69      737\n",
       "92      718\n",
       "26      680\n",
       "31      675\n",
       "114     655\n",
       "17      623\n",
       "123     615\n",
       "66      605\n",
       "117     582\n",
       "83      569\n",
       "20      565\n",
       "89      560\n",
       "112     557\n",
       "6       548\n",
       "4       543\n",
       "25      525\n",
       "75      506\n",
       "127     504\n",
       "41      499\n",
       "88      493\n",
       "81      487\n",
       "40      473\n",
       "72      466\n",
       "105     463\n",
       "77      463\n",
       "131     457\n",
       "121     454\n",
       "11      427\n",
       "5       409\n",
       "110     402\n",
       "9       399\n",
       "106     387\n",
       "129     386\n",
       "27      385\n",
       "24      382\n",
       "19      375\n",
       "96      373\n",
       "116     361\n",
       "50      356\n",
       "101     355\n",
       "115     344\n",
       "59      342\n",
       "70      338\n",
       "63      336\n",
       "79      335\n",
       "67      327\n",
       "65      325\n",
       "54      322\n",
       "13      317\n",
       "80      317\n",
       "23      316\n",
       "87      308\n",
       "130     303\n",
       "8       297\n",
       "52      296\n",
       "64      294\n",
       "91      293\n",
       "97      290\n",
       "126     285\n",
       "95      283\n",
       "73      277\n",
       "2       271\n",
       "51      264\n",
       "30      257\n",
       "109     245\n",
       "99      243\n",
       "84      243\n",
       "128     241\n",
       "118     240\n",
       "28      232\n",
       "34      229\n",
       "29      229\n",
       "93      226\n",
       "90      223\n",
       "10      218\n",
       "85      206\n",
       "74      204\n",
       "111     199\n",
       "55      198\n",
       "43      195\n",
       "124     195\n",
       "108     191\n",
       "42      189\n",
       "56      187\n",
       "57      185\n",
       "132     178\n",
       "48      173\n",
       "133     172\n",
       "33      169\n",
       "46      168\n",
       "53      161\n",
       "14      159\n",
       "36      150\n",
       "62      147\n",
       "1       146\n",
       "102     132\n",
       "86      125\n",
       "12      123\n",
       "44      113\n",
       "60      112\n",
       "119     112\n",
       "76      108\n",
       "122     105\n",
       "7       100\n",
       "49       99\n",
       "71       98\n",
       "134      95\n",
       "16       86\n",
       "103      85\n",
       "35       82\n",
       "58       81\n",
       "15       80\n",
       "125      69\n",
       "39       54\n",
       "113      47\n",
       "82       44\n",
       "32       32\n",
       "68       26\n",
       "18       12\n",
       "Name: count, dtype: int64"
      ]
     },
     "execution_count": 89,
     "metadata": {},
     "output_type": "execute_result"
    }
   ],
   "source": [
    "products['aisle_id'].value_counts()"
   ]
  },
  {
   "cell_type": "code",
   "execution_count": 90,
   "id": "e4d8ba1e-a337-48d3-a3a2-c1442723aaa4",
   "metadata": {},
   "outputs": [
    {
     "data": {
      "text/plain": [
       "array([19, 13,  7,  1, 11, 16, 17, 18, 12,  9,  8, 14, 15,  4, 21,  6, 20,\n",
       "        5,  3,  2, 10])"
      ]
     },
     "execution_count": 90,
     "metadata": {},
     "output_type": "execute_result"
    }
   ],
   "source": [
    "products['department_id'].unique()"
   ]
  },
  {
   "cell_type": "code",
   "execution_count": 91,
   "id": "e575b3b7-c4f3-4cbb-b88a-5954710bf3d6",
   "metadata": {},
   "outputs": [
    {
     "data": {
      "text/plain": [
       "product_id       49688\n",
       "product_name     49688\n",
       "aisle_id           134\n",
       "department_id       21\n",
       "dtype: int64"
      ]
     },
     "execution_count": 91,
     "metadata": {},
     "output_type": "execute_result"
    }
   ],
   "source": [
    "products.nunique()"
   ]
  },
  {
   "cell_type": "code",
   "execution_count": 92,
   "id": "ad8bba52-e4b1-4e19-bab9-dd804cb15f27",
   "metadata": {},
   "outputs": [
    {
     "data": {
      "text/plain": [
       "product_id       0\n",
       "product_name     0\n",
       "aisle_id         0\n",
       "department_id    0\n",
       "dtype: int64"
      ]
     },
     "execution_count": 92,
     "metadata": {},
     "output_type": "execute_result"
    }
   ],
   "source": [
    "products.isnull().sum()"
   ]
  },
  {
   "cell_type": "markdown",
   "id": "72a945de-0e32-48f7-bf0f-bf55e5f1ffac",
   "metadata": {
    "jp-MarkdownHeadingCollapsed": true
   },
   "source": [
    "#### Identify and handle missing values"
   ]
  },
  {
   "cell_type": "markdown",
   "id": "01c64fe5-112f-452a-9327-fc735a5d9a47",
   "metadata": {},
   "source": [
    "We have NaN in orders.csv for field days_since_prior_order. As we study the data dictionary, all latest orders are taken for each user id in eval train, test categories (206209 count). There are 206209 NaN i.e., the entries where NaN is present in column of \"days_since_prior_order\" is the first ever order the user placed. Also, in the link given in kaggle to get overview of data it is mentioned that reordered which are not having values can be taken as none. To get a better understanding of data refer to link: \"https://tech.instacart.com/3-million-instacart-orders-open-sourced-d40d29ead6f2\" . Thus, we replaced NaN with 0 as per the overview we got from data."
   ]
  },
  {
   "cell_type": "code",
   "execution_count": 95,
   "id": "78e85e46-d75a-4993-a6df-bdbd10671b59",
   "metadata": {
    "scrolled": true
   },
   "outputs": [
    {
     "data": {
      "text/plain": [
       "order_id                       0\n",
       "user_id                        0\n",
       "eval_set                       0\n",
       "order_number                   0\n",
       "order_dow                      0\n",
       "order_hour_of_day              0\n",
       "days_since_prior_order    206209\n",
       "dtype: int64"
      ]
     },
     "execution_count": 95,
     "metadata": {},
     "output_type": "execute_result"
    }
   ],
   "source": [
    "orders.isnull().sum()"
   ]
  },
  {
   "cell_type": "code",
   "execution_count": 96,
   "id": "815c9cd5-fb45-4672-8f4c-9e23ace94fc4",
   "metadata": {},
   "outputs": [],
   "source": [
    "orders['days_since_prior_order'].replace(np.NaN, 0, inplace = True)"
   ]
  },
  {
   "cell_type": "code",
   "execution_count": 97,
   "id": "990a94ed-8e97-4879-bd9f-27457ffad418",
   "metadata": {},
   "outputs": [
    {
     "data": {
      "text/plain": [
       "order_id                  0\n",
       "user_id                   0\n",
       "eval_set                  0\n",
       "order_number              0\n",
       "order_dow                 0\n",
       "order_hour_of_day         0\n",
       "days_since_prior_order    0\n",
       "dtype: int64"
      ]
     },
     "execution_count": 97,
     "metadata": {},
     "output_type": "execute_result"
    }
   ],
   "source": [
    "orders.isnull().sum()"
   ]
  },
  {
   "cell_type": "markdown",
   "id": "09775553-e0de-4bca-82b9-733c3c38da1b",
   "metadata": {
    "jp-MarkdownHeadingCollapsed": true
   },
   "source": [
    "#### Merging Data"
   ]
  },
  {
   "cell_type": "markdown",
   "id": "21b269e0-b939-4927-a34e-e0c53669bfc8",
   "metadata": {
    "jp-MarkdownHeadingCollapsed": true
   },
   "source": [
    "##### concatenate order_products__prior and order_products__train"
   ]
  },
  {
   "cell_type": "code",
   "execution_count": 100,
   "id": "8fe6d50a-c4d6-4498-9d56-358c5a642aea",
   "metadata": {},
   "outputs": [
    {
     "data": {
      "text/plain": [
       "(32434489, 4)"
      ]
     },
     "execution_count": 100,
     "metadata": {},
     "output_type": "execute_result"
    }
   ],
   "source": [
    "order_products__prior.shape"
   ]
  },
  {
   "cell_type": "code",
   "execution_count": 101,
   "id": "849df4d6-92e4-45cb-85ef-32e29aeb7845",
   "metadata": {},
   "outputs": [
    {
     "data": {
      "text/plain": [
       "(1384617, 4)"
      ]
     },
     "execution_count": 101,
     "metadata": {},
     "output_type": "execute_result"
    }
   ],
   "source": [
    "order_products__train.shape"
   ]
  },
  {
   "cell_type": "code",
   "execution_count": 102,
   "id": "1786ce77-daa4-4fd7-b262-33f85cec5876",
   "metadata": {},
   "outputs": [],
   "source": [
    "order_products = pd.concat([order_products__prior, order_products__train])"
   ]
  },
  {
   "cell_type": "code",
   "execution_count": 103,
   "id": "f4057137-0123-4c4c-9754-3fbc93fdd7ea",
   "metadata": {},
   "outputs": [
    {
     "data": {
      "text/plain": [
       "(33819106, 4)"
      ]
     },
     "execution_count": 103,
     "metadata": {},
     "output_type": "execute_result"
    }
   ],
   "source": [
    "order_products.shape"
   ]
  },
  {
   "cell_type": "markdown",
   "id": "3f5ae229-8eca-4bba-85d7-184c9cdc265b",
   "metadata": {
    "jp-MarkdownHeadingCollapsed": true
   },
   "source": [
    "##### merging order_products, aisles, products, departments"
   ]
  },
  {
   "cell_type": "code",
   "execution_count": 105,
   "id": "64b32a4f-9405-44db-8f37-d5beb1811b2d",
   "metadata": {},
   "outputs": [],
   "source": [
    "order_product_ais_dep = pd.merge(pd.merge(pd.merge(order_products, products, on='product_id'), departments , on='department_id'),aisles, on = 'aisle_id') "
   ]
  },
  {
   "cell_type": "code",
   "execution_count": 106,
   "id": "f6e8402e-ba4c-4921-b2d7-9289b13dce25",
   "metadata": {},
   "outputs": [
    {
     "data": {
      "text/plain": [
       "(33819106, 9)"
      ]
     },
     "execution_count": 106,
     "metadata": {},
     "output_type": "execute_result"
    }
   ],
   "source": [
    "order_product_ais_dep.shape"
   ]
  },
  {
   "cell_type": "code",
   "execution_count": 107,
   "id": "2b4a3802-cd0e-4419-a0e0-6cbf98fc26df",
   "metadata": {},
   "outputs": [],
   "source": [
    "final_order_product_detail = pd.merge(order_product_ais_dep, orders , on='order_id', how ='left')"
   ]
  },
  {
   "cell_type": "code",
   "execution_count": 108,
   "id": "e428dc23-14ca-41b7-bd59-da0a434bf1e0",
   "metadata": {},
   "outputs": [
    {
     "name": "stdout",
     "output_type": "stream",
     "text": [
      "<class 'pandas.core.frame.DataFrame'>\n",
      "RangeIndex: 33819106 entries, 0 to 33819105\n",
      "Data columns (total 15 columns):\n",
      " #   Column                  Dtype  \n",
      "---  ------                  -----  \n",
      " 0   order_id                int64  \n",
      " 1   product_id              int64  \n",
      " 2   add_to_cart_order       int64  \n",
      " 3   reordered               int64  \n",
      " 4   product_name            object \n",
      " 5   aisle_id                int64  \n",
      " 6   department_id           int64  \n",
      " 7   department              object \n",
      " 8   aisle                   object \n",
      " 9   user_id                 int64  \n",
      " 10  eval_set                object \n",
      " 11  order_number            int64  \n",
      " 12  order_dow               int64  \n",
      " 13  order_hour_of_day       int64  \n",
      " 14  days_since_prior_order  float64\n",
      "dtypes: float64(1), int64(10), object(4)\n",
      "memory usage: 3.8+ GB\n"
     ]
    }
   ],
   "source": [
    "final_order_product_detail.info()"
   ]
  },
  {
   "cell_type": "markdown",
   "id": "b99ae8a1-9e2c-4890-8028-c7db6ed5650e",
   "metadata": {
    "jp-MarkdownHeadingCollapsed": true
   },
   "source": [
    "#### Note Before Data Formatting"
   ]
  },
  {
   "cell_type": "markdown",
   "id": "db6be12f-49ed-4fe1-9e2d-0ab0cc070b56",
   "metadata": {},
   "source": [
    "check if we need to do data formatting/ data normalization/ binning if required/ adding dummy variables. The above all come under data cleaning. As of now I could find only data formatting to be helpful to save space. Will perform other if I find any need in future."
   ]
  },
  {
   "cell_type": "markdown",
   "id": "f62d97fe-c483-45c2-8e83-baee66e29dd9",
   "metadata": {
    "jp-MarkdownHeadingCollapsed": true
   },
   "source": [
    "#### Data Formatting helping save memory usage"
   ]
  },
  {
   "cell_type": "markdown",
   "id": "e1113af1-fce3-4619-a829-d771206696bc",
   "metadata": {},
   "source": [
    "Converting float64 to int64 to save space if the type is int in a column"
   ]
  },
  {
   "cell_type": "code",
   "execution_count": 113,
   "id": "3aae0c7b-e644-4925-9b38-1678fa63ef6c",
   "metadata": {},
   "outputs": [],
   "source": [
    "for i in final_order_product_detail.select_dtypes(include = [\"float64\",\"float32\"]).columns:\n",
    "    if final_order_product_detail[i].apply(lambda x: x.is_integer()).all():\n",
    "        final_order_product_detail[i] = final_order_product_detail[i].astype('int64')"
   ]
  },
  {
   "cell_type": "markdown",
   "id": "bec66507-b6b8-47bb-8f3d-bc1539f6e958",
   "metadata": {},
   "source": [
    "Finding if we can change int64 to int32 to save memory usage to help file run faster"
   ]
  },
  {
   "cell_type": "code",
   "execution_count": 115,
   "id": "196a507b-a48b-4b40-a8e3-05e8ceb72495",
   "metadata": {},
   "outputs": [],
   "source": [
    "for i in final_order_product_detail.select_dtypes(include = \"int64\").columns:\n",
    "    if final_order_product_detail[i].max() < 32000:\n",
    "        final_order_product_detail[i] = final_order_product_detail[i].astype(\"int32\")"
   ]
  },
  {
   "cell_type": "markdown",
   "id": "db6a546f-ad39-4af9-a9ec-394bca0722b9",
   "metadata": {
    "jp-MarkdownHeadingCollapsed": true
   },
   "source": [
    "Observation: We were able to save about 1GB of memory usage with help of Data Formatting when we check memory usage of data before formatting and after"
   ]
  },
  {
   "cell_type": "markdown",
   "id": "969e6616-e1ed-4ea9-baae-d7b5a7b362db",
   "metadata": {},
   "source": [
    "Here we can actually drop add_to_cart_order as we dont use this for any of our analysis further "
   ]
  },
  {
   "cell_type": "code",
   "execution_count": 118,
   "id": "11a3c7e7-04c2-4792-b714-5d029f172c08",
   "metadata": {},
   "outputs": [
    {
     "name": "stdout",
     "output_type": "stream",
     "text": [
      "<class 'pandas.core.frame.DataFrame'>\n",
      "RangeIndex: 33819106 entries, 0 to 33819105\n",
      "Data columns (total 15 columns):\n",
      " #   Column                  Dtype \n",
      "---  ------                  ----- \n",
      " 0   order_id                int64 \n",
      " 1   product_id              int64 \n",
      " 2   add_to_cart_order       int32 \n",
      " 3   reordered               int32 \n",
      " 4   product_name            object\n",
      " 5   aisle_id                int32 \n",
      " 6   department_id           int32 \n",
      " 7   department              object\n",
      " 8   aisle                   object\n",
      " 9   user_id                 int64 \n",
      " 10  eval_set                object\n",
      " 11  order_number            int32 \n",
      " 12  order_dow               int32 \n",
      " 13  order_hour_of_day       int32 \n",
      " 14  days_since_prior_order  int32 \n",
      "dtypes: int32(8), int64(3), object(4)\n",
      "memory usage: 2.8+ GB\n"
     ]
    }
   ],
   "source": [
    "final_order_product_detail.info()"
   ]
  },
  {
   "cell_type": "code",
   "execution_count": 119,
   "id": "e6ce8f2d-5754-473f-a1c9-971b74cc4ecb",
   "metadata": {},
   "outputs": [
    {
     "data": {
      "text/plain": [
       "order_id                  0\n",
       "product_id                0\n",
       "add_to_cart_order         0\n",
       "reordered                 0\n",
       "product_name              0\n",
       "aisle_id                  0\n",
       "department_id             0\n",
       "department                0\n",
       "aisle                     0\n",
       "user_id                   0\n",
       "eval_set                  0\n",
       "order_number              0\n",
       "order_dow                 0\n",
       "order_hour_of_day         0\n",
       "days_since_prior_order    0\n",
       "dtype: int64"
      ]
     },
     "execution_count": 119,
     "metadata": {},
     "output_type": "execute_result"
    }
   ],
   "source": [
    "final_order_product_detail.isnull().sum()"
   ]
  },
  {
   "cell_type": "code",
   "execution_count": 120,
   "id": "78e8b722-b2d9-4df3-b927-5f684abb0493",
   "metadata": {},
   "outputs": [
    {
     "data": {
      "text/plain": [
       "0"
      ]
     },
     "execution_count": 120,
     "metadata": {},
     "output_type": "execute_result"
    }
   ],
   "source": [
    "final_order_product_detail.duplicated().sum()"
   ]
  },
  {
   "cell_type": "code",
   "execution_count": 121,
   "id": "b1c93037-f374-4688-9230-c80234ed5394",
   "metadata": {},
   "outputs": [
    {
     "data": {
      "text/html": [
       "<div>\n",
       "<style scoped>\n",
       "    .dataframe tbody tr th:only-of-type {\n",
       "        vertical-align: middle;\n",
       "    }\n",
       "\n",
       "    .dataframe tbody tr th {\n",
       "        vertical-align: top;\n",
       "    }\n",
       "\n",
       "    .dataframe thead th {\n",
       "        text-align: right;\n",
       "    }\n",
       "</style>\n",
       "<table border=\"1\" class=\"dataframe\">\n",
       "  <thead>\n",
       "    <tr style=\"text-align: right;\">\n",
       "      <th></th>\n",
       "      <th>order_id</th>\n",
       "      <th>product_id</th>\n",
       "      <th>add_to_cart_order</th>\n",
       "      <th>reordered</th>\n",
       "      <th>product_name</th>\n",
       "      <th>aisle_id</th>\n",
       "      <th>department_id</th>\n",
       "      <th>department</th>\n",
       "      <th>aisle</th>\n",
       "      <th>user_id</th>\n",
       "      <th>eval_set</th>\n",
       "      <th>order_number</th>\n",
       "      <th>order_dow</th>\n",
       "      <th>order_hour_of_day</th>\n",
       "      <th>days_since_prior_order</th>\n",
       "    </tr>\n",
       "  </thead>\n",
       "  <tbody>\n",
       "    <tr>\n",
       "      <th>0</th>\n",
       "      <td>2</td>\n",
       "      <td>33120</td>\n",
       "      <td>1</td>\n",
       "      <td>1</td>\n",
       "      <td>Organic Egg Whites</td>\n",
       "      <td>86</td>\n",
       "      <td>16</td>\n",
       "      <td>dairy eggs</td>\n",
       "      <td>eggs</td>\n",
       "      <td>202279</td>\n",
       "      <td>prior</td>\n",
       "      <td>3</td>\n",
       "      <td>5</td>\n",
       "      <td>9</td>\n",
       "      <td>8</td>\n",
       "    </tr>\n",
       "    <tr>\n",
       "      <th>1</th>\n",
       "      <td>26</td>\n",
       "      <td>33120</td>\n",
       "      <td>5</td>\n",
       "      <td>0</td>\n",
       "      <td>Organic Egg Whites</td>\n",
       "      <td>86</td>\n",
       "      <td>16</td>\n",
       "      <td>dairy eggs</td>\n",
       "      <td>eggs</td>\n",
       "      <td>153404</td>\n",
       "      <td>prior</td>\n",
       "      <td>2</td>\n",
       "      <td>0</td>\n",
       "      <td>16</td>\n",
       "      <td>7</td>\n",
       "    </tr>\n",
       "    <tr>\n",
       "      <th>2</th>\n",
       "      <td>120</td>\n",
       "      <td>33120</td>\n",
       "      <td>13</td>\n",
       "      <td>0</td>\n",
       "      <td>Organic Egg Whites</td>\n",
       "      <td>86</td>\n",
       "      <td>16</td>\n",
       "      <td>dairy eggs</td>\n",
       "      <td>eggs</td>\n",
       "      <td>23750</td>\n",
       "      <td>prior</td>\n",
       "      <td>11</td>\n",
       "      <td>6</td>\n",
       "      <td>8</td>\n",
       "      <td>10</td>\n",
       "    </tr>\n",
       "    <tr>\n",
       "      <th>3</th>\n",
       "      <td>327</td>\n",
       "      <td>33120</td>\n",
       "      <td>5</td>\n",
       "      <td>1</td>\n",
       "      <td>Organic Egg Whites</td>\n",
       "      <td>86</td>\n",
       "      <td>16</td>\n",
       "      <td>dairy eggs</td>\n",
       "      <td>eggs</td>\n",
       "      <td>58707</td>\n",
       "      <td>prior</td>\n",
       "      <td>21</td>\n",
       "      <td>6</td>\n",
       "      <td>9</td>\n",
       "      <td>8</td>\n",
       "    </tr>\n",
       "    <tr>\n",
       "      <th>4</th>\n",
       "      <td>390</td>\n",
       "      <td>33120</td>\n",
       "      <td>28</td>\n",
       "      <td>1</td>\n",
       "      <td>Organic Egg Whites</td>\n",
       "      <td>86</td>\n",
       "      <td>16</td>\n",
       "      <td>dairy eggs</td>\n",
       "      <td>eggs</td>\n",
       "      <td>166654</td>\n",
       "      <td>prior</td>\n",
       "      <td>48</td>\n",
       "      <td>0</td>\n",
       "      <td>12</td>\n",
       "      <td>9</td>\n",
       "    </tr>\n",
       "  </tbody>\n",
       "</table>\n",
       "</div>"
      ],
      "text/plain": [
       "   order_id  product_id  add_to_cart_order  reordered        product_name  \\\n",
       "0         2       33120                  1          1  Organic Egg Whites   \n",
       "1        26       33120                  5          0  Organic Egg Whites   \n",
       "2       120       33120                 13          0  Organic Egg Whites   \n",
       "3       327       33120                  5          1  Organic Egg Whites   \n",
       "4       390       33120                 28          1  Organic Egg Whites   \n",
       "\n",
       "   aisle_id  department_id  department aisle  user_id eval_set  order_number  \\\n",
       "0        86             16  dairy eggs  eggs   202279    prior             3   \n",
       "1        86             16  dairy eggs  eggs   153404    prior             2   \n",
       "2        86             16  dairy eggs  eggs    23750    prior            11   \n",
       "3        86             16  dairy eggs  eggs    58707    prior            21   \n",
       "4        86             16  dairy eggs  eggs   166654    prior            48   \n",
       "\n",
       "   order_dow  order_hour_of_day  days_since_prior_order  \n",
       "0          5                  9                       8  \n",
       "1          0                 16                       7  \n",
       "2          6                  8                      10  \n",
       "3          6                  9                       8  \n",
       "4          0                 12                       9  "
      ]
     },
     "execution_count": 121,
     "metadata": {},
     "output_type": "execute_result"
    }
   ],
   "source": [
    "final_order_product_detail.head()"
   ]
  },
  {
   "cell_type": "markdown",
   "id": "ef45034e-c632-4db2-bedf-2737afb4b82d",
   "metadata": {
    "jp-MarkdownHeadingCollapsed": true
   },
   "source": [
    "### Descriptive Analytics"
   ]
  },
  {
   "cell_type": "markdown",
   "id": "c700f149-1bcd-4a71-ada9-2334f93df830",
   "metadata": {},
   "source": [
    "reference to get deep understanding of graphs that we can plot with matplotlib (https://www.geeksforgeeks.org/matplotlib-tutorial/?ref=lbp)"
   ]
  },
  {
   "cell_type": "markdown",
   "id": "9856b6e3-2ddf-4ff6-9a84-23b3ba180794",
   "metadata": {
    "jp-MarkdownHeadingCollapsed": true
   },
   "source": [
    "#### Busiest day of the week "
   ]
  },
  {
   "cell_type": "code",
   "execution_count": 125,
   "id": "52bd0c39-cba1-4e3f-a160-e9eb7ec91f04",
   "metadata": {},
   "outputs": [
    {
     "data": {
      "image/png": "[encoded data removed]",
      "text/plain": [
       "<Figure size 1500x700 with 1 Axes>"
      ]
     },
     "metadata": {},
     "output_type": "display_data"
    }
   ],
   "source": [
    "plt.figure(figsize=(15, 7))\n",
    "graph_for_dow = orders['order_dow'].value_counts().plot(kind='bar')\n",
    "plt.title(\"Frequency of Orders as per Day of Week\")\n",
    "graph_for_dow.bar_label(graph_for_dow.containers[0], label_type='edge');\n",
    "\n",
    "#https://stackoverflow.com/questions/28931224/how-to-add-value-labels-on-a-bar-chart"
   ]
  },
  {
   "cell_type": "markdown",
   "id": "b37f49ae-1ab1-4aef-8c59-4ad2788607e7",
   "metadata": {},
   "source": [
    "Above graph quotes Day of Week 0 being the most busiest day of the week followed by 1,2,5,6,3,4 in same order"
   ]
  },
  {
   "cell_type": "markdown",
   "id": "dbf3093e-fcc1-44e5-828b-5505533c0915",
   "metadata": {
    "jp-MarkdownHeadingCollapsed": true
   },
   "source": [
    "#### Busiest hour of the day"
   ]
  },
  {
   "cell_type": "code",
   "execution_count": 128,
   "id": "47815851-ff75-4365-afcc-5369bfa23aac",
   "metadata": {},
   "outputs": [
    {
     "data": {
      "image/png": "[encoded data removed]",
      "text/plain": [
       "<Figure size 1800x700 with 1 Axes>"
      ]
     },
     "metadata": {},
     "output_type": "display_data"
    }
   ],
   "source": [
    "plt.figure(figsize=(18, 7))\n",
    "graph_for_hod = orders['order_hour_of_day'].value_counts().plot(kind='bar')\n",
    "plt.title(\"Frequency of Orders as per Hour of the Day\")\n",
    "graph_for_hod.bar_label(graph_for_hod.containers[0], label_type='edge');\n",
    "#To suppress the output, you can add a ; at the end of the graph_label line"
   ]
  },
  {
   "cell_type": "markdown",
   "id": "b7c60b7a-6db8-4099-b4e1-46137a32be19",
   "metadata": {},
   "source": [
    "Above graph quotes hour of the day 10 being the most busiest hour of the day followed by 11,15,14, 13 in same order to mention top 5 most busiest hours of given days"
   ]
  },
  {
   "cell_type": "markdown",
   "id": "79e9d68a-3676-4a9e-b2b3-139fe6a3ca4b",
   "metadata": {
    "jp-MarkdownHeadingCollapsed": true
   },
   "source": [
    "#### Best seller product and Department (in terms of frequency of purchase)"
   ]
  },
  {
   "cell_type": "code",
   "execution_count": 131,
   "id": "7ec41877-43d9-4093-aebc-0d5cf2855174",
   "metadata": {},
   "outputs": [
    {
     "data": {
      "image/png": "[encoded data removed]",
      "text/plain": [
       "<Figure size 1800x700 with 1 Axes>"
      ]
     },
     "metadata": {},
     "output_type": "display_data"
    }
   ],
   "source": [
    "top_products = final_order_product_detail['product_name'].value_counts().nlargest(5)\n",
    "plt.figure(figsize=(18, 7))\n",
    "graph_for_products = top_products.plot(kind='bar')\n",
    "plt.title(\"Frequency of product_name for top 5 purchases\")\n",
    "graph_for_products.bar_label(graph_for_products.containers[0], label_type='edge');"
   ]
  },
  {
   "cell_type": "markdown",
   "id": "01244874-b38b-4687-b931-a46d23d77400",
   "metadata": {},
   "source": [
    "Most products bought by users in given data base are Banana, Bag of Organic Bananas, Organic Strawberries"
   ]
  },
  {
   "cell_type": "code",
   "execution_count": 133,
   "id": "4f1d6f57-37da-4cc6-a880-c346cb7f7de3",
   "metadata": {},
   "outputs": [
    {
     "data": {
      "image/png": "[encoded data removed]",
      "text/plain": [
       "<Figure size 1800x700 with 1 Axes>"
      ]
     },
     "metadata": {},
     "output_type": "display_data"
    }
   ],
   "source": [
    "top_departments = final_order_product_detail['department'].value_counts().nlargest(5)\n",
    "plt.figure(figsize=(18, 7))\n",
    "graph_for_products = top_departments.plot(kind='bar')\n",
    "plt.title(\"Top 5 Frequency of purchases in departments\")\n",
    "graph_for_products.bar_label(graph_for_products.containers[0], label_type='edge');"
   ]
  },
  {
   "cell_type": "markdown",
   "id": "778eb296-3942-4e84-bb62-e9deff1af00a",
   "metadata": {
    "jp-MarkdownHeadingCollapsed": true
   },
   "source": [
    "The departments with frequent purchase orders are produce, dairy eggs, snacks, beverages in the same order. Whereas we can clearly see the purchase made from department produce are very high compared to that of later ones."
   ]
  },
  {
   "cell_type": "markdown",
   "id": "4033098b-d25f-4c21-ab35-95a38e068ef5",
   "metadata": {
    "jp-MarkdownHeadingCollapsed": true
   },
   "source": [
    "#### Highest reorder of products"
   ]
  },
  {
   "cell_type": "code",
   "execution_count": 136,
   "id": "6796e6f8-f012-4bf8-9c9b-015379be5b9e",
   "metadata": {},
   "outputs": [],
   "source": [
    "reordered_count_for_products = final_order_product_detail[[\"product_name\",\"reordered\"]]\n",
    "grouped_reorders_by_products = reordered_count_for_products.groupby([\"product_name\"]).sum().nlargest(5,\"reordered\").sort_values(by=\"reordered\", ascending=False)"
   ]
  },
  {
   "cell_type": "code",
   "execution_count": 137,
   "id": "1eb40e60-dba0-4d5a-ae89-579930ac1c2d",
   "metadata": {},
   "outputs": [
    {
     "data": {
      "text/plain": [
       "<Figure size 1800x700 with 0 Axes>"
      ]
     },
     "metadata": {},
     "output_type": "display_data"
    },
    {
     "data": {
      "image/png": "[encoded data removed]",
      "text/plain": [
       "<Figure size 640x480 with 1 Axes>"
      ]
     },
     "metadata": {},
     "output_type": "display_data"
    }
   ],
   "source": [
    "plt.figure(figsize=(18, 7))\n",
    "graph_for_reorders = grouped_reorders_by_products.plot(kind='bar')\n",
    "plt.title(\"count of reorders as per products\")\n",
    "graph_for_reorders.bar_label(graph_for_reorders.containers[0], label_type='edge');"
   ]
  },
  {
   "cell_type": "markdown",
   "id": "45c4e7a0-a663-48ed-b582-420af7012ed0",
   "metadata": {},
   "source": [
    "We can see here that top 5 most purchased products are top 5 most reordered products"
   ]
  },
  {
   "cell_type": "markdown",
   "id": "31fac921-0f7a-44e8-a324-ed7b862210b3",
   "metadata": {
    "jp-MarkdownHeadingCollapsed": true
   },
   "source": [
    "#### Days since customer appeared to order again from store (days_since_prior_order)"
   ]
  },
  {
   "cell_type": "code",
   "execution_count": 140,
   "id": "f12e8942-b510-4226-9939-6b80cdf9e6bd",
   "metadata": {},
   "outputs": [
    {
     "data": {
      "image/png": "[encoded data removed]",
      "text/plain": [
       "<Figure size 1000x600 with 1 Axes>"
      ]
     },
     "metadata": {},
     "output_type": "display_data"
    }
   ],
   "source": [
    "users_retention = final_order_product_detail[[\"days_since_prior_order\",\"user_id\"]]\n",
    "observed_return_of_users_as_per_comeback = users_retention.groupby([\"days_since_prior_order\"],as_index = False).count()\n",
    "observed_return_of_users_as_per_comeback.rename(columns={\"user_id\": \"user_count\"}, inplace=True)\n",
    "plt.figure(figsize=(10, 6))\n",
    "sns.lineplot(data=observed_return_of_users_as_per_comeback[observed_return_of_users_as_per_comeback['days_since_prior_order'] > 0], x='days_since_prior_order', y='user_count')\n",
    "plt.xticks(range(0, observed_return_of_users_as_per_comeback['days_since_prior_order'].max() + 1, 1));"
   ]
  },
  {
   "cell_type": "markdown",
   "id": "abcc8492-409e-4f21-8adc-faca3277da2f",
   "metadata": {},
   "source": [
    "Not plotting 0 here since in \"https://tech.instacart.com/3-million-instacart-orders-open-sourced-d40d29ead6f2\" it is given they provided data of every user in given data from 4 to 100 order orders of total orders, that means they have had prior order for sure."
   ]
  },
  {
   "cell_type": "markdown",
   "id": "31c6056b-61cc-4640-9c5c-8d53a1cdb215",
   "metadata": {},
   "source": [
    "Mostly customers are repeating their order for about 5 - 9 days or 30 days of their prior orders"
   ]
  },
  {
   "cell_type": "markdown",
   "id": "93edce35-7b0a-4b05-8bd7-6642aa102998",
   "metadata": {
    "jp-MarkdownHeadingCollapsed": true
   },
   "source": [
    "#### Retention1: Number of Customers vs number of orders"
   ]
  },
  {
   "cell_type": "code",
   "execution_count": 144,
   "id": "867d24b4-5b49-4e05-8890-10461ed434f0",
   "metadata": {},
   "outputs": [
    {
     "data": {
      "image/png": "[encoded data removed]",
      "text/plain": [
       "<Figure size 1500x700 with 1 Axes>"
      ]
     },
     "metadata": {},
     "output_type": "display_data"
    }
   ],
   "source": [
    "# Group by user_id and count unique order_id\n",
    "orders_per_customer = orders.groupby('user_id')['order_id'].nunique()\n",
    "\n",
    "# Plot the distribution\n",
    "plt.figure(figsize=(15, 7))\n",
    "orders_per_customer.hist(bins=10, edgecolor =\"black\")\n",
    "plt.title('Distribution of Orders per Customer')\n",
    "plt.xlabel('Number of Orders')\n",
    "plt.ylabel('Number of Customers')\n",
    "plt.xticks(range(0, orders_per_customer.max() + 1, 2));"
   ]
  },
  {
   "cell_type": "markdown",
   "id": "8cc73742-78f8-48d2-88b1-1546c0deb71b",
   "metadata": {},
   "source": [
    "From the above graph we can see that most of the customers mostly placed their orders for 4 to 12 times. As we can observe the count of customers who came to order again for more than 14 times kept on reducing for later number of orders. This might suggest us to explore are there any benefits customers are benefitting for their first few orders for about 14 such that there are only high customer number for only their first few orders orders? This can be explored futher by gathering data if any available that can help us with discounts or vouchers. We can do a survey also to gain insights from customers in this point of view."
   ]
  },
  {
   "cell_type": "markdown",
   "id": "60973529-3dd9-4c68-a657-b2f11ead0aef",
   "metadata": {
    "jp-MarkdownHeadingCollapsed": true
   },
   "source": [
    "#### Retention2: Number of products vs number of reorders"
   ]
  },
  {
   "cell_type": "code",
   "execution_count": 147,
   "id": "d5003ec1-f400-438a-a96d-98cb64a1e97e",
   "metadata": {},
   "outputs": [
    {
     "name": "stdout",
     "output_type": "stream",
     "text": [
      "             product_name  reordered  total_orders  reorder_rate\n",
      "0                  Banana     415166        491291      0.845051\n",
      "1  Bag of Organic Bananas     329275        394930      0.833755\n",
      "2    Organic Strawberries     214448        275577      0.778178\n",
      "3    Organic Baby Spinach     194939        251705      0.774474\n",
      "4    Organic Hass Avocado     176173        220877      0.797607\n"
     ]
    }
   ],
   "source": [
    "total_orders_for_products = final_order_product_detail.groupby('product_name')['order_id'].count().reset_index()\n",
    "total_orders_for_products.columns = ['product_name', 'total_orders']\n",
    "# grouped_reorders_by_products = reordered_count_for_products.groupby([\"product_name\"]).sum().nlargest(5,\"reordered\").sort_values(by=\"reordered\", ascending=False)\n",
    "# used while finding highest reordered products\n",
    "# Merge with the top reordered products\n",
    "top_reordered_products = grouped_reorders_by_products.merge(total_orders_for_products, on='product_name')\n",
    "\n",
    "# Calculate reorder rate\n",
    "top_reordered_products['reorder_rate'] = top_reordered_products['reordered'] / top_reordered_products['total_orders']\n",
    "\n",
    "print(top_reordered_products)\n"
   ]
  },
  {
   "cell_type": "markdown",
   "id": "ebc04854-65b9-4c41-84ab-d45cdf4146f2",
   "metadata": {},
   "source": [
    "We can see that reorder rate is high for top 5 reordered products that is these are highest contributed by recurring customers."
   ]
  },
  {
   "cell_type": "markdown",
   "id": "9cdf860e-b72f-4d25-86eb-d7c6a2d698df",
   "metadata": {
    "jp-MarkdownHeadingCollapsed": true
   },
   "source": [
    "### Exploring more of Data to get insights"
   ]
  },
  {
   "cell_type": "markdown",
   "id": "c261d031-c787-469b-84aa-9348061bb361",
   "metadata": {
    "jp-MarkdownHeadingCollapsed": true
   },
   "source": [
    "#### Departments to frequently stockup"
   ]
  },
  {
   "cell_type": "markdown",
   "id": "7172ce06-7dc3-4b37-a933-2f62e9181787",
   "metadata": {},
   "source": [
    "We can get a better understanding of which departments have better reorders to know to assign staffing for that department or stock up as per department"
   ]
  },
  {
   "cell_type": "code",
   "execution_count": 152,
   "id": "494c80b9-6f70-4cb0-8acd-f499f5de6982",
   "metadata": {},
   "outputs": [],
   "source": [
    "# Calculate total orders and reorders for each department\n",
    "department_reorders = final_order_product_detail.groupby('department').agg({\n",
    "    'order_id': 'count',\n",
    "    'reordered': 'sum'\n",
    "}).reset_index()\n",
    "department_reorders.columns = ['department', 'total_orders', 'total_reorders']\n",
    "\n",
    "# Calculate reorder rate\n",
    "department_reorders['reorder_rate'] = department_reorders['total_reorders'] / department_reorders['total_orders']\n"
   ]
  },
  {
   "cell_type": "code",
   "execution_count": 153,
   "id": "31102820-b390-475a-ad0a-e0ff8363f116",
   "metadata": {},
   "outputs": [
    {
     "data": {
      "image/png": "[encoded data removed]",
      "text/plain": [
       "<Figure size 640x480 with 2 Axes>"
      ]
     },
     "metadata": {},
     "output_type": "display_data"
    }
   ],
   "source": [
    "# Pivot the data for heatmap\n",
    "heatmap_data = department_reorders.pivot(index = \"department\",columns = \"total_orders\")\n",
    "sns.heatmap(heatmap_data, cmap=\"YlGnBu\")\n",
    "plt.title('Reorder Rate Heatmap by Department')\n",
    "plt.xlabel('Reorder Rate')\n",
    "plt.ylabel('Department');"
   ]
  },
  {
   "cell_type": "markdown",
   "id": "1a22b3c5-e813-4fcd-9076-18693b6101e8",
   "metadata": {},
   "source": [
    "From above heat map we can see that departments produce, dairy eggs, beverages have high reorder rate because of which they have to consistently be on alert for stocking up"
   ]
  },
  {
   "cell_type": "markdown",
   "id": "00a11e81-4423-4591-8575-5c33b951120c",
   "metadata": {
    "jp-MarkdownHeadingCollapsed": true
   },
   "source": [
    "#### Days since prior order for multiple departments"
   ]
  },
  {
   "cell_type": "code",
   "execution_count": 276,
   "id": "b552a677-16e4-4229-a0e3-aeaed66da594",
   "metadata": {},
   "outputs": [
    {
     "data": {
      "text/plain": [
       "<seaborn.axisgrid.FacetGrid at 0x13df12810>"
      ]
     },
     "execution_count": 276,
     "metadata": {},
     "output_type": "execute_result"
    },
    {
     "data": {
      "image/png": "[encoded data removed]",
      "text/plain": [
       "<Figure size 2000x2000 with 21 Axes>"
      ]
     },
     "metadata": {},
     "output_type": "display_data"
    }
   ],
   "source": [
    "# Create a FacetGrid for the histogram\n",
    "departments_vs_days_since_prior_order = sns.FacetGrid(final_order_product_detail, col='department', col_wrap=5, height=4, sharex=False, sharey=False)\n",
    "departments_vs_days_since_prior_order.map(sns.histplot, 'days_since_prior_order', bins=20, kde=False)\n",
    "\n",
    "# Add titles and labels\n",
    "departments_vs_days_since_prior_order.fig.suptitle('Histogram of Days Since Prior Order by Department', y=1.02)\n",
    "departments_vs_days_since_prior_order.set_axis_labels('Days Since Prior Order', 'Count')\n",
    "departments_vs_days_since_prior_order.set_titles(col_template='{col_name}')"
   ]
  },
  {
   "cell_type": "markdown",
   "id": "5d092037-ff79-431b-bd79-00584f01afbe",
   "metadata": {},
   "source": [
    "We can see that for most of departments days since the prior order less than 15 days, though the number of products ordered are less for few departments the pattern of days since prior order are same"
   ]
  },
  {
   "cell_type": "markdown",
   "id": "14b34da1-70ba-417d-a64b-7d86294eaf3c",
   "metadata": {
    "jp-MarkdownHeadingCollapsed": true
   },
   "source": [
    "#### Busiest Hour and Busiest Day together"
   ]
  },
  {
   "cell_type": "code",
   "execution_count": 159,
   "id": "013d9e3d-8227-4efa-b77e-bee5f553a525",
   "metadata": {},
   "outputs": [],
   "source": [
    "#group by day of week, hour of day and find count respective to given groups and plot pivot table to thus plot a heatmap\n",
    "busy_hour_day = orders[['order_hour_of_day','order_dow',\"order_id\"]]\n",
    "busy_hour_day_group = busy_hour_day.groupby(['order_hour_of_day','order_dow'], as_index = False).count()\n",
    "busy_hour_day_group_pivot = busy_hour_day_group.pivot(index = 'order_hour_of_day',columns = \"order_dow\")\n",
    "busy_hour_day_group_pivot = busy_hour_day_group_pivot.fillna(0) #fill missing values with 0"
   ]
  },
  {
   "cell_type": "code",
   "execution_count": 160,
   "id": "80c24cbb-7785-439e-a730-c77203d74de8",
   "metadata": {},
   "outputs": [
    {
     "data": {
      "text/plain": [
       "Text(0.5, 1.0, 'heatmap of Busiest hour of a day')"
      ]
     },
     "execution_count": 160,
     "metadata": {},
     "output_type": "execute_result"
    },
    {
     "data": {
      "image/png": "[encoded data removed]",
      "text/plain": [
       "<Figure size 1500x600 with 2 Axes>"
      ]
     },
     "metadata": {},
     "output_type": "display_data"
    }
   ],
   "source": [
    "plt.figure(figsize=(15,6))\n",
    "plt.pcolor(busy_hour_day_group_pivot,cmap ='YlGnBu')\n",
    "plt.colorbar()\n",
    "plt.yticks(ticks=np.arange(0.5, len(busy_hour_day_group_pivot.index), 1),labels = busy_hour_day_group_pivot.index)\n",
    "plt.xticks(ticks=np.arange(0.5, len(busy_hour_day_group_pivot.columns), 1),labels = busy_hour_day_group_pivot.columns)\n",
    "plt.title('heatmap of Busiest hour of a day')"
   ]
  },
  {
   "cell_type": "markdown",
   "id": "d7b2d9bc-bf10-4381-83ca-dd423953561f",
   "metadata": {
    "jp-MarkdownHeadingCollapsed": true
   },
   "source": [
    "We can clearly visualize from above heatmap that the hours between 9 to 18 are kind of the busy hours where the orders are high. The load can be handled as per the above statistics to help manage the flow of customer orders."
   ]
  },
  {
   "cell_type": "markdown",
   "id": "2c730edf-c3ad-4b13-bcda-6618818c8609",
   "metadata": {
    "jp-MarkdownHeadingCollapsed": true
   },
   "source": [
    "### Conclusion"
   ]
  },
  {
   "cell_type": "markdown",
   "id": "a9fb4aeb-f633-45cb-880b-e3013fc7fd9e",
   "metadata": {},
   "source": [
    "This analysis provides valuable insights into customer purchasing behavior on Instacart. These insights can help in making data-driven decisions to improve customer experience and optimize inventory and operations."
   ]
  },
  {
   "cell_type": "markdown",
   "id": "434db6f7-f3d6-4a44-8579-52aa2db67a8a",
   "metadata": {},
   "source": [
    "1) The Busiest Hours of the grocery store range from 9:00 AM to 18:00 AM everyday.\n",
    "2) Most Departments face reorders either in first 15 days the customer did a purchase or 30 days later.\n",
    "3) Reorder rate is highest for departments produce, dairy eggs.\n",
    "4) Top 5 reordered products that is Banana, Bag of Organic Bananas, Organic Strawberries, Organic Baby Spinach, Organic Hass Avocado are highest contributed by recurring customers.\n",
    "5) Most of the customers mostly placed their orders for 4 to 12 times.\n",
    "6) Mostly customers are repeating their order for about 5 - 9 days or 30 days of their prior orders.\n",
    "7) We can see here that Banana, Bag of Organic Bananas, Organic Strawberries, Organic Baby Spinach, Organic Hass Avocado are top 5 most purchased products.\n",
    "8) The departments with frequent purchase orders are produce, dairy eggs, snacks, beverages in the same order. Whereas we can clearly see the purchase made from department produce are very high compared to that of later ones.\n",
    "9) To mention top 5 most busiest hours of given days, the hour of the day 10 being the most busiest hour of the day followed by 11, 15, 14, 13 in same order.\n",
    "10) Day of Week 0 being the most busiest day of the week followed by 1,2,5,6,3,4 in same order."
   ]
  },
  {
   "cell_type": "markdown",
   "id": "04ffe7fc-2d24-405c-b3f4-7cdad83c6985",
   "metadata": {},
   "source": [
    "### Citation"
   ]
  },
  {
   "cell_type": "markdown",
   "id": "58f9dab4-466d-45d1-a46e-2bcedee7b7ba",
   "metadata": {},
   "source": [
    "“The Instacart Online Grocery Shopping Dataset 2017”, Accessed from https://www.instacart.com/datasets/grocery-shopping-2017 on 16th July, 2024."
   ]
  }
 ],
 "metadata": {
  "kernelspec": {
   "display_name": "Python 3 (ipykernel)",
   "language": "python",
   "name": "python3"
  },
  "language_info": {
   "codemirror_mode": {
    "name": "ipython",
    "version": 3
   },
   "file_extension": ".py",
   "mimetype": "text/x-python",
   "name": "python",
   "nbconvert_exporter": "python",
   "pygments_lexer": "ipython3",
   "version": "3.11.7"
  }
 },
 "nbformat": 4,
 "nbformat_minor": 5
}
